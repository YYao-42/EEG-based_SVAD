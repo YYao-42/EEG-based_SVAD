{
 "cells": [
  {
   "cell_type": "code",
   "execution_count": null,
   "metadata": {},
   "outputs": [],
   "source": [
    "import matplotlib.pyplot as plt\n",
    "import matplotlib.lines as mlines\n",
    "import pandas as pd\n",
    "import seaborn as sns\n",
    "import numpy as np\n",
    "from scipy import stats\n",
    "%matplotlib widget"
   ]
  },
  {
   "cell_type": "code",
   "execution_count": null,
   "metadata": {},
   "outputs": [],
   "source": [
    "def load_corr(modalities, table_name):\n",
    "    df_list = []\n",
    "    for modality in modalities:\n",
    "        df = pd.read_csv(f'tables/Overlay/{modality}/{table_name}')\n",
    "        cc1 = df[df['Component'] == 'CC 1'].copy()\n",
    "        cc1['subject_num'] = cc1['Subject ID'].str.extract('(\\d+)', expand=False).astype(int)\n",
    "        cc1 = cc1.sort_values(by='subject_num').drop(columns='subject_num')\n",
    "        cc2 = df[df['Component'] == 'CC 2'].copy()\n",
    "        cc2['subject_num'] = cc2['Subject ID'].str.extract('(\\d+)', expand=False).astype(int)\n",
    "        cc2 = cc2.sort_values(by='subject_num').drop(columns='subject_num')\n",
    "        cc1_cc2 = pd.concat([cc1, cc2], ignore_index=True)\n",
    "        cc1_cc2['Modality'] = modality\n",
    "        df_list.append(cc1_cc2[['Subject ID', 'Sig Level', 'Component', 'Att', 'Unatt', 'Modality']])\n",
    "    corr_test = pd.concat(df_list, ignore_index=True)\n",
    "    corr_test = corr_test.melt(id_vars=['Subject ID', 'Sig Level', 'Component', 'Modality'], value_vars=['Att', 'Unatt'], var_name='Attention', value_name='Corr')\n",
    "    return corr_test\n",
    "\n",
    "def load_acc(modalities, table_name, column='Trial_len=30'):\n",
    "    acc = []\n",
    "    for modality in modalities:\n",
    "        table = pd.read_csv('tables/Overlay/' + modality + '/' + table_name)\n",
    "        table['Modality'] = modality\n",
    "        table = table.rename(columns={column: 'Accuracy'})\n",
    "        table['subject_num'] = table['Subject ID'].str.extract('(\\d+)', expand=False).astype(int)\n",
    "        table = table.sort_values(by='subject_num').drop(columns='subject_num')\n",
    "        acc.append(table[['Subject ID', 'Accuracy', 'Modality']])\n",
    "    acc_df = pd.concat(acc, ignore_index=True)\n",
    "    return acc_df\n",
    "\n",
    "def load_isc(modalities, nb_comp=3, OVERLAY=True):\n",
    "    isc = []\n",
    "    for modality in modalities:\n",
    "        table_path = 'tables/Overlay/GCCA/OL_Single_Mod.csv' if OVERLAY else 'tables/Overlay/GCCA/SO_Single_Mod.csv'\n",
    "        df_isc = pd.read_csv(table_path)\n",
    "        df_isc = df_isc[df_isc['Modality'] == modality]\n",
    "        comp_list = [f'CC {i}' for i in range(1, nb_comp+1)]\n",
    "        isc.append(df_isc[df_isc['Component'].isin(comp_list)])\n",
    "    isc_df = pd.concat(isc)\n",
    "    return isc_df\n",
    "\n",
    "def plot_corr_mod(df_long, mod, ax):\n",
    "    df_long = df_long[df_long['Modality'] == mod]\n",
    "    sig_level_pool = df_long['Sig Level'].mean()\n",
    "    palette = dict(zip(df_long['Attention'].unique(), sns.color_palette()))\n",
    "    boxprops = {'edgecolor': 'black', 'alpha': 0.5}\n",
    "    sns.boxplot(x='Component', y='Corr', hue='Attention', data=df_long, showfliers=False, dodge=True, ax=ax, boxprops=boxprops, palette=palette)\n",
    "    sns.stripplot(x='Component', y='Corr', hue='Attention', data=df_long, size=4, jitter=True, dodge=True, ax=ax, legend=False)\n",
    "    ax.hlines(sig_level_pool, -0.5, 1.5, color='grey', linestyle='--')\n",
    "    ax.set_title(mod)\n",
    "    ax.set_ylabel('')\n",
    "    ax.set_xlabel('')\n",
    "    return ax.get_legend_handles_labels()\n",
    "\n",
    "def wilcoxon_pvalue(comparisons, alternative, BH_correction=False):\n",
    "    # comparisons is a list of tuples, where each tuple contains two lists of values to compare\n",
    "    p_values = []\n",
    "    for group_1, group_2 in comparisons:\n",
    "        p_value = stats.wilcoxon(group_1, group_2, alternative=alternative).pvalue\n",
    "        p_values.append(p_value)\n",
    "    if BH_correction:\n",
    "        p_values = stats.false_discovery_control(p_values, method='bh')\n",
    "    return p_values\n",
    "\n",
    "def plot_pvalue(df, val_name, comparisons, alternative, BH_correction, ax):\n",
    "    modalities = df['Modality'].unique()\n",
    "    comp_groups = []\n",
    "    comp_groups = [(df[df['Modality'] == mod_pair[0]][val_name], df[df['Modality'] == mod_pair[1]][val_name]) for mod_pair in comparisons]\n",
    "    p_values = wilcoxon_pvalue(comp_groups, alternative, BH_correction)\n",
    "    for i in range(len(comparisons)):\n",
    "        mod1, mod2 = comparisons[i]\n",
    "        x1 = list(modalities).index(mod1)\n",
    "        x2 = list(modalities).index(mod2)\n",
    "        y, h, col = df[val_name].max() + 0.04*(x1+x2), 0.02, 'k'\n",
    "        ax.plot([x1, x1, x2, x2], [y, y+h, y+h, y], lw=1.5, c=col)\n",
    "        p_value = p_values[i]\n",
    "        ax.text((x1+x2)*.5, y+h, f\"p = {p_value:.3f}\", ha='center', va='bottom', color=col)\n",
    "\n",
    "def plot_acc(df, title, ax, comparisons=None, alternative=None, BH_correction=None, xlabel=True):\n",
    "    sns.boxplot(x='Modality', y='Accuracy', data=df, color='lightgray', ax=ax)\n",
    "    sns.stripplot(x='Modality', y='Accuracy', hue='Subject ID', data=df, jitter=True, ax=ax, legend=False)\n",
    "    if comparisons is not None:\n",
    "        plot_pvalue(df, 'Accuracy', comparisons, alternative, BH_correction, ax)\n",
    "    if title is not None:\n",
    "        ax.set_title(title)\n",
    "    ax.set_ylabel('Accuracy')\n",
    "    ax.set_xlabel('Modality') if xlabel else ax.set_xlabel('')\n",
    "    ax.legend()\n",
    "\n",
    "def plot_corr(df, comp, att, title, ax, comparisons=None, alternative=None, BH_correction=None):\n",
    "    df = df[df['Component'] == comp]\n",
    "    df = df[df['Attention'] == att]\n",
    "    sns.boxplot(x='Modality', y='Corr', data=df, color='lightgray', ax=ax)\n",
    "    sns.stripplot(x='Modality', y='Corr', hue='Subject ID', data=df, jitter=True, ax=ax, legend=False)\n",
    "    if comparisons is not None:\n",
    "        plot_pvalue(df, 'Corr', comparisons, alternative, BH_correction, ax)\n",
    "    if title is not None:\n",
    "        ax.set_title(title)\n",
    "    ax.set_ylabel('Accuracy')\n",
    "    ax.set_xlabel('Modality')\n",
    "    ax.legend()\n",
    "\n",
    "def plot_compare(df_long, df_long_cp, df_mode, df_cp_mode, comp, mode, title, ax, alternative, BH_correction):\n",
    "    df_long = df_long[df_long['Component'] == comp] if comp is not None else df_long\n",
    "    df_long = df_long[df_long['Attention'] == mode] if mode is not None else df_long\n",
    "    df_long_cp = df_long_cp[df_long_cp['Component'] == comp] if comp is not None else df_long_cp\n",
    "    df_long_cp = df_long_cp[df_long_cp['Attention'] == mode] if mode is not None else df_long_cp\n",
    "    # Add a new column to distinguish between masked and unmasked modalities\n",
    "    df_long['CP'] = df_mode\n",
    "    df_long_cp['CP'] = df_cp_mode\n",
    "    # Concatenate the dataframes\n",
    "    df_combined = pd.concat([df_long, df_long_cp])\n",
    "    # Create a color palette that maps 'Modality' levels to colors\n",
    "    boxprops = dict(edgecolor='black', alpha=0.5)\n",
    "    sns.boxplot(x='Modality', y='Value', hue='CP', data=df_combined, showfliers=False, dodge=True, ax=ax, boxprops=boxprops)\n",
    "    sns.stripplot(x='Modality', y='Value', hue='CP', data=df_combined, size=4, jitter=True, dodge=True, ax=ax, legend=False)\n",
    "    modalities = df_combined['Modality'].unique()\n",
    "    comparisons = [(df_combined[(df_combined['Modality'] == modality) & (df_combined['CP'] == df_mode)]['Value'], df_combined[(df_combined['Modality'] == modality) & (df_combined['CP'] == df_cp_mode)]['Value']) for modality in modalities]\n",
    "    p_values = wilcoxon_pvalue(comparisons, alternative, BH_correction)\n",
    "    for i in range(len(modalities)):\n",
    "        p_value = p_values[i]\n",
    "        ax.text(i, df_combined['Value'].max(), f\"p = {p_value:.3f}\", ha='center', va='bottom')\n",
    "    ax.set_title(title) if title is not None else ax.set_title('')\n",
    "    ax.set_ylabel('Correlation Coefficient') if comp is not None else ax.set_ylabel('Accuracy')\n",
    "    ax.set_xlabel('Modality')\n",
    "\n",
    "def adjust_legend(axes, loc='best'):\n",
    "    for ax in axes:\n",
    "        handles, labels = ax.get_legend_handles_labels()\n",
    "        unique = [(h, l) for i, (h, l) in enumerate(zip(handles, labels)) if l not in labels[:i]]\n",
    "        ax.legend(*zip(*unique), loc=loc)\n",
    "\n",
    "def plot_CC_pairs(df_long, mode='Att'):\n",
    "    df_long = df_long[df_long['Attention'] == mode]\n",
    "    modalities = df_long['Modality'].unique()\n",
    "    fig, axes = plt.subplots(1, len(modalities), sharey=True, figsize=(10, 4))\n",
    "    for mod in modalities:\n",
    "        ax = axes[modalities.tolist().index(mod)]\n",
    "        df_mod = df_long.loc[df_long['Modality'] == mod].copy()  # Create a copy to avoid SettingWithCopyWarning\n",
    "        df_mod.loc[:, 'Component'] = (df_mod['Component'] != 'CC 1').astype(float)\n",
    "        # Create a new column 'Above Sig Level' that indicates whether the correlation for 'CC1' or 'CC2' is above the significance level\n",
    "        df_mod.loc[:, 'Above Sig Level'] = df_mod.groupby('Subject ID')['Corr'].transform(lambda x: any(x > df_mod['Sig Level'].mean()))\n",
    "        subjects = df_mod['Subject ID'].unique()\n",
    "        num_sig_subjects = sum(df_mod.groupby('Subject ID')['Above Sig Level'].any())\n",
    "        for subject in subjects:\n",
    "            df_subject = df_mod[df_mod['Subject ID'] == subject]\n",
    "            color = 'red' if df_subject['Above Sig Level'].any() else '#3C74BC'\n",
    "            sns.lineplot(x='Component', y='Corr', data=df_subject, ax=ax, marker='o', color=color, legend=False)\n",
    "        ax.set_xlabel(mod)\n",
    "        ax.set_ylabel('Correlation Coefficient')\n",
    "        ax.set_xticks([0, 1], ['CC 1', 'CC 2'])\n",
    "        ax.legend().remove()\n",
    "        # Add the number of significant subjects over the total number of subjects to the top of the plot\n",
    "        ax.text(0.5, 1.02, f'#sig_subj/#subj\\n{num_sig_subjects}/{len(subjects)}', transform=ax.transAxes, ha='center', va='bottom')"
   ]
  },
  {
   "cell_type": "code",
   "execution_count": null,
   "metadata": {},
   "outputs": [],
   "source": [
    "fig_save_path = '../../Manuscript/2nd/images/'"
   ]
  },
  {
   "cell_type": "markdown",
   "metadata": {},
   "source": [
    "## Correlations are modulated by attention"
   ]
  },
  {
   "cell_type": "code",
   "execution_count": null,
   "metadata": {},
   "outputs": [],
   "source": [
    "modalities = ['EEG', 'EOG', 'GAZE', 'GAZE_V', 'EOG_V', 'SACC']\n",
    "table_name = 'ObjFlow_Corr_Train_Att_Mask_False.csv'\n",
    "corr_df = load_corr(modalities, table_name)\n",
    "\n",
    "plt.close('all')\n",
    "fig, axes = plt.subplots(1, len(modalities), figsize=(13, 6), sharey=True)\n",
    "for i, ax in enumerate(axes):\n",
    "    h, l = plot_corr_mod(corr_df, modalities[i], ax)\n",
    "    ax.legend().remove()  # Remove the legend from each subplot\n",
    "axes[0].set_ylabel('Correlation')\n",
    "significance_line = mlines.Line2D([], [], color='grey', linestyle='--', label='Significance Level')\n",
    "h.append(significance_line)\n",
    "l.append('Significance Level')\n",
    "fig.legend(h, l, loc='upper center', ncol=len(h))\n",
    "plt.show()\n",
    "# plt.savefig(fig_save_path + 'corr_mod.jpg', dpi=300)"
   ]
  },
  {
   "cell_type": "code",
   "execution_count": null,
   "metadata": {},
   "outputs": [],
   "source": [
    "# plt.close('all')\n",
    "# plot_CC_pairs(corr_df, 'Att')\n",
    "# plt.tight_layout()\n",
    "# plt.show()"
   ]
  },
  {
   "cell_type": "code",
   "execution_count": null,
   "metadata": {},
   "outputs": [],
   "source": [
    "# plt.close('all')\n",
    "# plot_CC_pairs(corr_df, 'Unatt')\n",
    "# plt.tight_layout()\n",
    "# plt.show()"
   ]
  },
  {
   "cell_type": "markdown",
   "metadata": {},
   "source": [
    "## Performance of visual attention decoding tasks"
   ]
  },
  {
   "cell_type": "code",
   "execution_count": null,
   "metadata": {},
   "outputs": [],
   "source": [
    "modalities = ['EEG', 'EOG', 'GAZE', 'GAZE_V', 'EOG_V', 'SACC']\n",
    "table_name = 'ObjFlow_Acc_Train_Att_Mask_False.csv'\n",
    "acc_df = load_acc(modalities, table_name)\n",
    "comparisons = [('EEG', 'GAZE_V'), ('GAZE_V', 'SACC'), ('EEG', 'SACC')]\n",
    "alternative = 'two-sided' # Whether the compared distributions are significantly different\n",
    "BH_correction = True\n",
    "plt.close('all')\n",
    "fig, ax = plt.figure(figsize=(6, 4)), plt.gca()\n",
    "plot_acc(acc_df, None, ax, comparisons, alternative, BH_correction)\n",
    "plt.show()\n",
    "# plt.savefig(fig_save_path + 'acc_vad_mod.jpg', dpi=300)"
   ]
  },
  {
   "cell_type": "markdown",
   "metadata": {},
   "source": [
    "## Performance when regressing out eye movements from EEG"
   ]
  },
  {
   "cell_type": "code",
   "execution_count": null,
   "metadata": {},
   "outputs": [],
   "source": [
    "table_name = 'ObjFlow_Acc_Train_Att_Mask_False.csv'\n",
    "modalities = ['EEG', 'EEG-EOG&GAZE_V']\n",
    "acc_reg_df = load_acc(modalities, table_name)\n",
    "comparisons = [('EEG', 'EEG-EOG&GAZE_V')]\n",
    "alternative = 'greater' # Whether the compared distributions are significantly different\n",
    "BH_correction = True\n",
    "plt.close('all')\n",
    "fig, ax = plt.figure(figsize=(5, 5)), plt.gca()\n",
    "plot_acc(acc_reg_df, None, ax, comparisons, alternative, BH_correction)\n",
    "plt.show()\n",
    "# plt.savefig(fig_save_path + 'acc_reg_eye.jpg', dpi=300)"
   ]
  },
  {
   "cell_type": "markdown",
   "metadata": {},
   "source": [
    "## Performance when using a subset of electrodes in the visual cortex"
   ]
  },
  {
   "cell_type": "code",
   "execution_count": null,
   "metadata": {},
   "outputs": [],
   "source": [
    "# import mne\n",
    "# region_dict = {\n",
    "#     'frontal': ['Fp1', 'AF7', 'AF3', 'F1', 'F3', 'F5', 'F7', 'Fpz', 'Fp2', 'AF8', 'AF4', 'AFz', 'Fz', 'F2', 'F4', 'F6', 'F8'],\n",
    "#     'frontal_central': ['FC5', 'FC3', 'FC1', 'C1', 'C3', 'C5', 'FC6', 'FC4', 'FC2', 'FCz', 'Cz', 'C2', 'C4', 'C6'],\n",
    "#     'temporal': ['FT7', 'T7', 'TP7', 'FT8', 'T8', 'TP8'],\n",
    "#     'central_parietal': ['CP5', 'CP3', 'CP1', 'P1', 'P3', 'P5', 'P7', 'P9', 'Pz', 'CPz', 'CP6', 'CP4', 'CP2', 'P2', 'P4', 'P6', 'P8', 'P10'],\n",
    "#     'parietal_occipital': ['PO7', 'PO3', 'POz', 'PO4', 'PO8', 'O1', 'Oz', 'O2', 'Iz'],\n",
    "#     'selected': ['PO7', 'PO4', 'Oz', 'O1']\n",
    "# }\n",
    "# nb_regions = len(region_dict)\n",
    "# montage = mne.channels.make_standard_montage('biosemi64')\n",
    "# for region, kept_channels in region_dict.items():\n",
    "#     ind = [i for (i, channel) in enumerate(montage.ch_names) if channel in kept_channels]\n",
    "#     montage_selected = montage.copy()\n",
    "#     # Keep only the desired channels\n",
    "#     montage_selected.ch_names = [montage.ch_names[x] for x in ind]\n",
    "#     kept_channel_info = [montage.dig[x+3] for x in ind] # Skip the first three as they are LPA, Nasion, and RPA\n",
    "#     montage_selected.dig = montage.dig[0:3]+kept_channel_info # Keep the first three rows as they are the fiducial points information\n",
    "#     fig = montage_selected.plot(show=False, show_names=False)\n",
    "#     fig.savefig(fig_save_path+region+'.jpg', dpi=300)"
   ]
  },
  {
   "cell_type": "code",
   "execution_count": null,
   "metadata": {},
   "outputs": [],
   "source": [
    "regions = ['frontal', 'frontal_central', 'temporal', 'central_parietal', 'parietal_occipital']\n",
    "# load and concatenate the dataframes of different regions\n",
    "acc_df = []\n",
    "modalities = ['EEG']\n",
    "table_name = 'Objflow_Acc_Train_Att_Mask_False.csv'\n",
    "acc = load_acc(modalities, table_name)\n",
    "acc['Modality'] = 'whole brain'\n",
    "acc_df.append(acc)\n",
    "\n",
    "for region in reversed(regions):\n",
    "    table_name = region+'-OF_Acc_Train_Att_Mask_False.csv'\n",
    "    acc = load_acc(modalities, table_name)\n",
    "    acc['Modality'] = region\n",
    "    acc_df.append(acc)\n",
    "acc_df = pd.concat(acc_df)\n",
    "\n",
    "plt.close('all')\n",
    "fig, ax = plt.figure(figsize=(10, 5)), plt.gca()\n",
    "comparisons = [('whole brain', 'parietal_occipital'), ('whole brain', 'frontal_central'), ('whole brain', 'frontal'), ('whole brain', 'temporal'), ('whole brain', 'central_parietal')]\n",
    "alternative = 'greater' # Whether the compared distributions are significantly different\n",
    "BH_correction = True\n",
    "plot_acc(acc_df, None, ax, comparisons, alternative, BH_correction, xlabel=False)\n",
    "plt.show()\n",
    "# plt.savefig(fig_save_path + 'acc_regions.jpg', dpi=300)"
   ]
  },
  {
   "cell_type": "code",
   "execution_count": null,
   "metadata": {},
   "outputs": [],
   "source": [
    "modalities = ['EEG']\n",
    "# load and concatenate the dataframes of different regions\n",
    "acc_df = []\n",
    "table_name = 'Objflow_Acc_Train_Att_Mask_False.csv'\n",
    "acc = load_acc(modalities, table_name)\n",
    "acc['Modality'] = 'whole brain'\n",
    "acc_df.append(acc)\n",
    "# table_name = 'selected-OF_Acc_Train_Att_Mask_False.csv'\n",
    "# table_name = 'further_rm_POz-OF_Acc_Train_Att_Mask_False.csv'\n",
    "table_name = 'rm_Oz-OF_Acc_Train_Att_Mask_False.csv'\n",
    "acc = load_acc(modalities, table_name)\n",
    "acc['Modality'] = 'selected'\n",
    "acc_df.append(acc)\n",
    "for run in range(1,11):\n",
    "    table_name = f'Run-{run}-Rand4Ref-OF_Acc_Train_Att_Mask_False.csv'\n",
    "    acc = load_acc(modalities, table_name)\n",
    "    acc['Modality'] = f'Rand-{run}'\n",
    "    acc_df.append(acc)\n",
    "acc_df = pd.concat(acc_df)\n",
    "\n",
    "plt.close('all')\n",
    "fig, ax = plt.figure(figsize=(13, 6)), plt.gca()\n",
    "comparisons = [('whole brain', 'selected'), ('whole brain', 'Rand-1'), ('whole brain', 'Rand-2'), ('whole brain', 'Rand-3'), ('whole brain', 'Rand-4'), ('whole brain', 'Rand-5'), ('whole brain', 'Rand-6'), ('whole brain', 'Rand-7'), ('whole brain', 'Rand-8'), ('whole brain', 'Rand-9'), ('whole brain', 'Rand-10')]\n",
    "alternative = 'greater' # Whether the compared distributions are significantly different\n",
    "BH_correction = True\n",
    "plot_acc(acc_df, None, ax, comparisons, alternative, BH_correction, xlabel=False)\n",
    "plt.show()\n",
    "# plt.savefig(fig_save_path + 'acc_four_ch.jpg', dpi=300)"
   ]
  },
  {
   "cell_type": "markdown",
   "metadata": {},
   "source": [
    "## Performance after removing saccades"
   ]
  },
  {
   "cell_type": "code",
   "execution_count": null,
   "metadata": {},
   "outputs": [],
   "source": [
    "modalities = ['EEG']\n",
    "acc_df = []\n",
    "table_name = 'ObjFlow_Acc_Train_Aug_Multisubj_Syn_False.csv'\n",
    "acc = load_acc(modalities, table_name, column='Trial_len=30')\n",
    "acc['Modality'] = 'No SACC'\n",
    "acc_df.append(acc)\n",
    "for run in range(10):\n",
    "    table_name = f'Run{run+1}-ObjFlow_Acc_Train_Aug_Multisubj_Syn_True.csv'\n",
    "    acc = load_acc(modalities, table_name)\n",
    "    acc['Modality'] = f'Control-{run+1}'\n",
    "    acc_df.append(acc)\n",
    "acc_df = pd.concat(acc_df)\n",
    "\n",
    "plt.close('all')\n",
    "fig, ax = plt.figure(figsize=(12, 6)), plt.gca()\n",
    "comparisons = [('No SACC', 'Control-1'), ('No SACC', 'Control-2'), ('No SACC', 'Control-3'), ('No SACC', 'Control-4'), ('No SACC', 'Control-5'), ('No SACC', 'Control-6'), ('No SACC', 'Control-7'), ('No SACC', 'Control-8'), ('No SACC', 'Control-9'), ('No SACC', 'Control-10')]\n",
    "alternative = 'less' # Whether the compared distributions are significantly different\n",
    "BH_correction = True\n",
    "plot_acc(acc_df, None, ax, comparisons, alternative, BH_correction, xlabel=False)\n",
    "plt.show()\n",
    "# plt.savefig(fig_save_path + 'acc_wo_sacc.jpg', dpi=300)\n"
   ]
  },
  {
   "cell_type": "markdown",
   "metadata": {},
   "source": [
    "## MM vs VAD"
   ]
  },
  {
   "cell_type": "code",
   "execution_count": null,
   "metadata": {},
   "outputs": [],
   "source": [
    "modalities = ['EEG', 'EEG-EOG&GAZE_V']\n",
    "table_name = 'ObjFlow_Acc_MM_Train_Att_Mask_False.csv'\n",
    "acc_mm_df = load_acc(modalities, table_name)\n",
    "acc_mm_df = acc_mm_df.rename(columns={'Accuracy': 'Value'})\n",
    "table_name = 'ObjFlow_Acc_Train_Att_Mask_False.csv'\n",
    "acc_df = load_acc(modalities, table_name)\n",
    "acc_df = acc_df.rename(columns={'Accuracy': 'Value'})\n",
    "\n",
    "# modalities = ['EEG']\n",
    "# table_name = 'selected-OF_Acc_MM_Train_Att_Mask_False.csv'\n",
    "# acc_mm_selected = load_acc(modalities, table_name)\n",
    "# acc_mm_selected = acc_mm_selected.rename(columns={'Accuracy': 'Value'})\n",
    "# acc_mm_selected['Modality'] = 'Selected'\n",
    "# acc_mm_df = pd.concat([acc_mm_df, acc_mm_selected])\n",
    "# table_name = 'selected-OF_Acc_Train_Att_Mask_False.csv'\n",
    "# acc_selected = load_acc(modalities, table_name)\n",
    "# acc_selected = acc_selected.rename(columns={'Accuracy': 'Value'})\n",
    "# acc_selected['Modality'] = 'Selected'\n",
    "# acc_df = pd.concat([acc_df, acc_selected])\n",
    "\n",
    "plt.close('all')\n",
    "fig, ax = plt.figure(figsize=(5, 4)), plt.gca()\n",
    "plot_compare(acc_df, acc_mm_df, 'VAD', 'MM', None, None, None, ax, 'less', True)\n",
    "adjust_legend([ax])\n",
    "# plt.savefig(fig_save_path + 'acc_vad_mm.jpg', dpi=300)"
   ]
  },
  {
   "cell_type": "code",
   "execution_count": null,
   "metadata": {},
   "outputs": [],
   "source": [
    "modalities = ['EOG', 'GAZE', 'GAZE_V', 'EOG_V', 'SACC']\n",
    "# modalities = ['EEG', 'EEG-EOG&GAZE_V']\n",
    "table_name = 'ObjFlow_Acc_MM_Train_Att_Mask_False.csv'\n",
    "acc_mm_df = load_acc(modalities, table_name)\n",
    "acc_mm_df = acc_mm_df.rename(columns={'Accuracy': 'Value'})\n",
    "table_name = 'ObjFlow_Acc_Train_Att_Mask_False.csv'\n",
    "acc_df = load_acc(modalities, table_name)\n",
    "acc_df = acc_df.rename(columns={'Accuracy': 'Value'})\n",
    "\n",
    "plt.close('all')\n",
    "fig, ax = plt.figure(figsize=(10, 4)), plt.gca()\n",
    "plot_compare(acc_df, acc_mm_df, 'VAD', 'MM', None, None, None, ax, 'greater', True)\n",
    "adjust_legend([ax])\n",
    "# plt.savefig(fig_save_path + 'acc_vad_mm_other.jpg', dpi=300)\n"
   ]
  },
  {
   "cell_type": "code",
   "execution_count": null,
   "metadata": {},
   "outputs": [],
   "source": [
    "modalities = ['EEG']\n",
    "\n",
    "regions = ['frontal', 'frontal_central', 'temporal', 'central_parietal', 'parietal_occipital']\n",
    "# load and concatenate the dataframes of different regions\n",
    "acc_df = []\n",
    "acc_mm_df = []\n",
    "modalities = ['EEG']\n",
    "for region in reversed(regions):\n",
    "    table_name = region+'-OF_Acc_Train_Att_Mask_False.csv'\n",
    "    acc = load_acc(modalities, table_name)\n",
    "    acc['Modality'] = region\n",
    "    acc_df.append(acc)\n",
    "    table_name = region+'-OF_Acc_MM_Train_Att_Mask_False.csv'\n",
    "    acc_mm = load_acc(modalities, table_name)\n",
    "    acc_mm['Modality'] = region\n",
    "    acc_mm_df.append(acc_mm)\n",
    "acc_df = pd.concat(acc_df)\n",
    "acc_mm_df = pd.concat(acc_mm_df)\n",
    "acc_df = acc_df.rename(columns={'Accuracy': 'Value'})\n",
    "acc_mm_df = acc_mm_df.rename(columns={'Accuracy': 'Value'})\n",
    "\n",
    "plt.close('all')\n",
    "fig, ax = plt.figure(figsize=(10, 4)), plt.gca()\n",
    "plot_compare(acc_df, acc_mm_df, 'VAD', 'MM', None, None, None, ax, 'less', True)\n",
    "adjust_legend([ax])\n"
   ]
  },
  {
   "cell_type": "markdown",
   "metadata": {},
   "source": [
    "## Combining EEG and GAZE_V"
   ]
  },
  {
   "cell_type": "code",
   "execution_count": null,
   "metadata": {},
   "outputs": [],
   "source": [
    "modalities = ['EEG', 'GAZE_V', 'EEG+GAZE_V']\n",
    "table_name = 'ObjFlow_Acc_Train_Att_Mask_False.csv'\n",
    "acc_comb_df = load_acc(modalities, table_name)\n",
    "table_name = 'ObjFlow_Acc_MM_Train_Att_Mask_False.csv'\n",
    "acc_comb_mm_df = load_acc(modalities, table_name)\n",
    "\n",
    "plt.close('all')\n",
    "fig, axes = plt.subplots(1, 2, figsize=(10, 6), sharey=True)\n",
    "comparisons = [('EEG', 'EEG+GAZE_V'), ('GAZE_V', 'EEG+GAZE_V')]\n",
    "alternative = 'less'\n",
    "BH_correction = True\n",
    "plot_acc(acc_comb_df, 'Visual attention decoding', axes[0], comparisons, alternative, BH_correction)\n",
    "plot_acc(acc_comb_mm_df, 'Match-mismatch', axes[1], comparisons, alternative, BH_correction)\n",
    "plt.show()\n",
    "# plt.savefig(fig_save_path + 'acc_vad_mm_comb.jpg', dpi=300)"
   ]
  },
  {
   "cell_type": "markdown",
   "metadata": {},
   "source": [
    "## GCCA"
   ]
  },
  {
   "cell_type": "code",
   "execution_count": null,
   "metadata": {},
   "outputs": [],
   "source": [
    "modalities = ['EEG-EOG&GAZE_V', 'EOG', 'GAZE', 'GAZE_V', 'EOG_V', 'SACC']\n",
    "isc_df_ol = load_isc(modalities, nb_comp=1, OVERLAY=True)\n",
    "isc_df_ol['Dataset'] = 'Overlaid objects'\n",
    "isc_df_sg = load_isc(modalities, nb_comp=1, OVERLAY=False)\n",
    "isc_df_sg['Dataset'] = 'Single object'\n",
    "isc_df = pd.concat([isc_df_ol, isc_df_sg])\n",
    "\n",
    "plt.close('all')\n",
    "sns.barplot(isc_df, x=\"Modality\", y=\"ISC\", hue=\"Dataset\")\n",
    "# for i, mod in enumerate(isc_df['Modality'].unique()):\n",
    "#     sig_level = isc_df[isc_df['Modality'] == mod]['Sig Level (ISC)'].mean()\n",
    "#     plt.hlines(sig_level, i-0.4, i+0.4, color='black', linestyle='--')\n",
    "plt.show()\n",
    "# plt.savefig(fig_save_path + 'isc.jpg', dpi=300)\n"
   ]
  },
  {
   "cell_type": "markdown",
   "metadata": {},
   "source": [
    "## EEG vs GAZE_V, pairwise comparison"
   ]
  },
  {
   "cell_type": "code",
   "execution_count": null,
   "metadata": {},
   "outputs": [],
   "source": [
    "modalities = ['EEG-EOG&GAZE_V', 'GAZE_V']\n",
    "table_name = 'ObjFlow_Acc_Train_Att_Mask_False.csv'\n",
    "acc_df = load_acc(modalities, table_name)\n",
    "# find the subject ID where the accuracy is the higher when using EEG compared to GAZE_V\n",
    "eeg_df = acc_df[(acc_df['Modality'] == 'EEG-EOG&GAZE_V')].reset_index(drop=True)\n",
    "gaze_v_df = acc_df[(acc_df['Modality'] == 'GAZE_V')].reset_index(drop=True)\n",
    "# print(eeg_df[eeg_df['Accuracy'] > gaze_v_df['Accuracy']])\n",
    "# print(gaze_v_df[gaze_v_df['Accuracy'] > eeg_df['Accuracy']])\n",
    "# correlations between the accuracy of EEG and GAZE_V\n",
    "print(eeg_df['Accuracy'].corr(gaze_v_df['Accuracy']))"
   ]
  },
  {
   "cell_type": "code",
   "execution_count": null,
   "metadata": {},
   "outputs": [],
   "source": [
    "fig, ax = plt.subplots(1, 1, figsize=(5, 4))\n",
    "for subject in acc_df['Subject ID'].unique():\n",
    "    df_subject = acc_df[acc_df['Subject ID'] == subject]\n",
    "    eeg_subject = df_subject[df_subject['Modality'] == 'EEG-EOG&GAZE_V']\n",
    "    gaze_v_subject = df_subject[df_subject['Modality'] == 'GAZE_V']\n",
    "    if eeg_subject['Accuracy'].values + 0.1 < gaze_v_subject['Accuracy'].values:\n",
    "        # Add label=subject to ensure each line has a label corresponding to the subject ID\n",
    "        sns.lineplot(x='Modality', y='Accuracy', data=df_subject, ax=ax, marker='o', label=str(subject), linewidth=2.5)\n",
    "    else:\n",
    "        sns.lineplot(x='Modality', y='Accuracy', data=df_subject, ax=ax, marker='o', linestyle=':', color='grey', label='_nolegend_')\n",
    "\n",
    "# Display the legend. You can adjust the location by specifying the loc parameter, e.g., loc='upper right'\n",
    "ax.legend(title='Subject ID', loc='upper left', bbox_to_anchor=(1, 1))\n",
    "plt.tight_layout()\n",
    "# plt.savefig(fig_save_path + 'acc_pair.jpg', dpi=300)\n"
   ]
  },
  {
   "cell_type": "markdown",
   "metadata": {},
   "source": [
    "## Scratchpad"
   ]
  },
  {
   "cell_type": "code",
   "execution_count": null,
   "metadata": {},
   "outputs": [],
   "source": []
  }
 ],
 "metadata": {
  "kernelspec": {
   "display_name": "Python 3.10.6 ('signal')",
   "language": "python",
   "name": "python3"
  },
  "language_info": {
   "codemirror_mode": {
    "name": "ipython",
    "version": 3
   },
   "file_extension": ".py",
   "mimetype": "text/x-python",
   "name": "python",
   "nbconvert_exporter": "python",
   "pygments_lexer": "ipython3",
   "version": "3.10.6"
  },
  "orig_nbformat": 4,
  "vscode": {
   "interpreter": {
    "hash": "e4780ce94013b4ad826834d504b051d615119766f3ac7f8bac99efc1ee879921"
   }
  }
 },
 "nbformat": 4,
 "nbformat_minor": 2
}
