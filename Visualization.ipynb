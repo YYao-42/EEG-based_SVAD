{
 "cells": [
  {
   "cell_type": "code",
   "execution_count": null,
   "metadata": {},
   "outputs": [],
   "source": [
    "import matplotlib.pyplot as plt\n",
    "import pandas as pd\n",
    "import seaborn as sns"
   ]
  },
  {
   "cell_type": "code",
   "execution_count": null,
   "metadata": {},
   "outputs": [],
   "source": [
    "def load_corr(modalities, table_name):\n",
    "    df_att_list = []\n",
    "    df_unatt_list = []\n",
    "    for modality in modalities:\n",
    "        df = pd.read_csv(f'tables/Overlay/{modality}/{table_name}')\n",
    "        cc1_cc2 = df[df['Component'].isin(['CC 1', 'CC 2'])].copy()\n",
    "        cc1_cc2['Modality'] = modality\n",
    "        df_att_list.append(cc1_cc2[['Subject ID', 'Component', 'Att', 'Modality']])\n",
    "        df_unatt_list.append(cc1_cc2[['Subject ID', 'Component', 'Unatt', 'Modality']])\n",
    "    corr_test_att = pd.concat(df_att_list, ignore_index=True)\n",
    "    corr_test_unatt = pd.concat(df_unatt_list, ignore_index=True)\n",
    "    return corr_test_att, corr_test_unatt\n",
    "\n",
    "def load_acc(modalities, table_name):\n",
    "    acc = []\n",
    "    for modality in modalities:\n",
    "        table = pd.read_csv('tables/Overlay/' + modality + '/' + table_name)\n",
    "        table['Modality'] = modality\n",
    "        table = table.rename(columns={'Trial_len=30': 'Accuracy'})\n",
    "        acc.append(table[['Subject ID', 'Accuracy', 'Modality']])\n",
    "    acc_df = pd.concat(acc)\n",
    "    return acc_df\n",
    "\n",
    "def plot_corr(df, metric, title, ax):\n",
    "    df_long = pd.melt(df, id_vars=['Subject ID', 'Modality', 'Component'], var_name='Metric', value_name='Value')\n",
    "    df_long = df_long[df_long['Metric'] == metric]\n",
    "    sns.boxplot(x='Modality', y='Value', hue='Component', data=df_long, showfliers=False, dodge=True, ax=ax)\n",
    "    sns.stripplot(x='Modality', y='Value', hue='Component', data=df_long, jitter=True, dodge=True, alpha=0.5, edgecolor='gray', linewidth=0.5, ax=ax)\n",
    "    ax.set_title(title)\n",
    "    ax.set_ylabel('Correlation Coefficient')\n",
    "    ax.set_xlabel('Modality')\n",
    "    ax.legend()\n",
    "\n",
    "def plot_acc(df, title, ax):\n",
    "    sns.boxplot(x='Modality', y='Accuracy', data=df, color='lightgray', ax=ax)\n",
    "    sns.stripplot(x='Modality', y='Accuracy', hue='Subject ID', data=df, jitter=True, ax=ax, legend=False)\n",
    "    ax.set_title(title)\n",
    "    ax.set_ylabel('Accuracy')\n",
    "    ax.set_xlabel('Modality')\n",
    "    ax.legend()\n",
    "\n",
    "def adjust_legend(axes):\n",
    "    for ax in axes:\n",
    "        handles, labels = ax.get_legend_handles_labels()\n",
    "        unique = [(h, l) for i, (h, l) in enumerate(zip(handles, labels)) if l not in labels[:i]]\n",
    "        ax.legend(*zip(*unique))"
   ]
  },
  {
   "cell_type": "code",
   "execution_count": null,
   "metadata": {},
   "outputs": [],
   "source": [
    "modalities = ['EEG', 'EOG', 'GAZE_V', 'EOG_V', 'SACC']\n",
    "table_name = 'ObjFlow_Corr_Train_Att_Mask_False.csv'\n",
    "corr_test_att, corr_test_unatt = load_corr(modalities, table_name)\n",
    "\n",
    "plt.close('all')\n",
    "fig, axes = plt.subplots(1, 2, figsize=(10, 4), sharey=True)\n",
    "\n",
    "plot_corr(corr_test_att, 'Att', 'Train on Attended, Test on Attended', axes[0])\n",
    "plot_corr(corr_test_unatt, 'Unatt', 'Train on Attended, Test on Unattended', axes[1])\n",
    "adjust_legend(axes)\n",
    "\n",
    "plt.tight_layout()\n",
    "plt.show()"
   ]
  },
  {
   "cell_type": "code",
   "execution_count": null,
   "metadata": {},
   "outputs": [],
   "source": [
    "modalities = ['EEG', 'EOG', 'GAZE_V', 'EOG_V', 'SACC']\n",
    "table_name = 'ObjFlow_Corr_Train_Unatt_Mask_False.csv'\n",
    "corr_test_att, corr_test_unatt = load_corr(modalities, table_name)\n",
    "\n",
    "plt.close('all')\n",
    "fig, axes = plt.subplots(1, 2, figsize=(10, 4), sharey=True)\n",
    "\n",
    "plot_corr(corr_test_att, 'Att', 'Train on Unattended, Test on Attended', axes[0])\n",
    "plot_corr(corr_test_unatt, 'Unatt', 'Train on Unattended, Test on Unattended', axes[1])\n",
    "adjust_legend(axes)\n",
    "\n",
    "plt.tight_layout()\n",
    "plt.show()"
   ]
  },
  {
   "cell_type": "code",
   "execution_count": null,
   "metadata": {},
   "outputs": [],
   "source": [
    "table_name = 'ObjFlow_Corr_Train_Att_Mask_False.csv'\n",
    "modalities = ['EEG', 'EOG', 'GAZE_V']\n",
    "corr_test_ori_att, corr_test_ori_unatt = load_corr(modalities, table_name)\n",
    "modalities_reg = ['EEG-EOG', 'EEG-GAZE_V', 'GAZE_V-EEG', 'EEG-EOG&GAZE_V']\n",
    "corr_test_reg_att, corr_test_reg_unatt = load_corr(modalities_reg, table_name)"
   ]
  },
  {
   "cell_type": "code",
   "execution_count": null,
   "metadata": {},
   "outputs": [],
   "source": [
    "plt.close('all')\n",
    "fig, axes = plt.subplots(1, 2, figsize=(11, 4), sharey=True)\n",
    "\n",
    "plot_corr(corr_test_ori_att, 'Att', 'Train on Attended, Test on Attended', axes[0])\n",
    "plot_corr(corr_test_reg_att, 'Att', 'Train on Attended, Test on Attended', axes[1])\n",
    "adjust_legend(axes)\n",
    "\n",
    "plt.tight_layout()\n",
    "plt.show()"
   ]
  },
  {
   "cell_type": "code",
   "execution_count": null,
   "metadata": {},
   "outputs": [],
   "source": [
    "plt.close('all')\n",
    "fig, axes = plt.subplots(1, 2, figsize=(11, 4), sharey=True)\n",
    "\n",
    "plot_corr(corr_test_ori_unatt, 'Unatt', 'Train on Attended, Test on Unattended', axes[0])\n",
    "plot_corr(corr_test_reg_unatt, 'Unatt', 'Train on Attended, Test on Unattended', axes[1])\n",
    "adjust_legend(axes)\n",
    "\n",
    "plt.tight_layout()\n",
    "plt.show()"
   ]
  },
  {
   "cell_type": "code",
   "execution_count": null,
   "metadata": {},
   "outputs": [],
   "source": [
    "modalities = ['EEG', 'EOG', 'GAZE_V', 'EOG_V', 'SACC']\n",
    "table_name = 'ObjFlow_Acc_Train_Att_Mask_False.csv'\n",
    "acc_mask_false_df = load_acc(modalities, table_name)\n",
    "\n",
    "modalities = ['EEG+EOG', 'EEG+GAZE_V', 'EOG+GAZE_V', 'EEG+EOG+GAZE_V']\n",
    "acc_mask_false_cb_df = load_acc(modalities, table_name)\n",
    "\n",
    "modalities = ['EEG-EOG', 'EEG-GAZE_V', 'GAZE_V-EEG', 'EEG-EOG&GAZE_V']\n",
    "acc_mask_false_reg_df = load_acc(modalities, table_name)\n",
    "\n",
    "modalities = ['EEG', 'EOG', 'GAZE_V', 'EOG_V', 'SACC']\n",
    "table_name = 'ObjFlow_Acc_MM_Train_Att_Mask_False.csv'\n",
    "acc_mm_att_mask_false_df = load_acc(modalities, table_name)\n",
    "\n",
    "table_name = 'ObjFlow_Acc_MM_Train_Unatt_Mask_False.csv'\n",
    "acc_mm_unatt_mask_false_df = load_acc(modalities, table_name)\n",
    "\n",
    "modalities = ['EEG', 'EOG', 'GAZE_V', 'EOG_V']\n",
    "table_name = 'ObjFlow_Acc_Train_Att_Mask_True.csv'\n",
    "acc_mask_true_df = load_acc(modalities, table_name)"
   ]
  },
  {
   "cell_type": "code",
   "execution_count": null,
   "metadata": {},
   "outputs": [],
   "source": [
    "plt.close('all')\n",
    "fig, axes = plt.subplots(1, 2, figsize=(10, 4), sharey=True)\n",
    "\n",
    "plot_acc(acc_mask_false_df, 'Compete-Att, Trial length=30s', axes[0])\n",
    "plot_acc(acc_mm_att_mask_false_df, 'MM-Att, Trial length=30s', axes[1])\n",
    "adjust_legend(axes)\n",
    "\n",
    "plt.tight_layout()\n",
    "plt.show()"
   ]
  },
  {
   "cell_type": "code",
   "execution_count": null,
   "metadata": {},
   "outputs": [],
   "source": [
    "\n",
    "plt.close('all')\n",
    "fig, axes = plt.subplots(1, 2, figsize=(10, 4), sharey=True)\n",
    "\n",
    "plot_acc(acc_mask_false_df, 'Compete-Att', axes[0])\n",
    "plot_acc(acc_mask_true_df, 'Compete-Att, Saccades Removed', axes[1])\n",
    "adjust_legend(axes)\n",
    "\n",
    "plt.tight_layout()\n",
    "plt.show()"
   ]
  },
  {
   "cell_type": "code",
   "execution_count": null,
   "metadata": {},
   "outputs": [],
   "source": [
    "modalities = ['EEG', 'EOG', 'GAZE_V']\n",
    "table_name = 'ObjFlow_Acc_Train_Att_Mask_False.csv'\n",
    "acc_mask_false_df_part = load_acc(modalities, table_name)\n",
    "\n",
    "plt.close('all')\n",
    "fig, axes = plt.subplots(1, 2, figsize=(11, 4), sharey=True)\n",
    "\n",
    "plot_acc(acc_mask_false_df_part, 'Compete-Att', axes[0])\n",
    "plot_acc(acc_mask_false_cb_df, 'Compete-Att, Multi-Modal', axes[1])\n",
    "adjust_legend(axes)\n",
    "\n",
    "plt.tight_layout()\n",
    "plt.show()"
   ]
  },
  {
   "cell_type": "code",
   "execution_count": null,
   "metadata": {},
   "outputs": [],
   "source": [
    "plt.close('all')\n",
    "fig, axes = plt.subplots(1, 2, figsize=(11, 4), sharey=True)\n",
    "\n",
    "plot_acc(acc_mask_false_df_part, 'Compete-Att', axes[0])\n",
    "plot_acc(acc_mask_false_reg_df, 'Compete-Att, With Regression', axes[1])\n",
    "adjust_legend(axes)\n",
    "\n",
    "plt.tight_layout()\n",
    "plt.show()"
   ]
  },
  {
   "cell_type": "code",
   "execution_count": null,
   "metadata": {},
   "outputs": [],
   "source": [
    "plt.close('all')\n",
    "\n",
    "fig, ax = plt.subplots(figsize=(5, 4))\n",
    "\n",
    "plot_acc(acc_mm_unatt_mask_false_df, 'MM-Unatt, Trial length=30s', ax)\n",
    "\n",
    "plt.tight_layout()\n",
    "plt.show()"
   ]
  },
  {
   "cell_type": "code",
   "execution_count": null,
   "metadata": {},
   "outputs": [],
   "source": []
  },
  {
   "cell_type": "code",
   "execution_count": null,
   "metadata": {},
   "outputs": [],
   "source": []
  }
 ],
 "metadata": {
  "kernelspec": {
   "display_name": "Python 3.10.6 ('signal')",
   "language": "python",
   "name": "python3"
  },
  "language_info": {
   "codemirror_mode": {
    "name": "ipython",
    "version": 3
   },
   "file_extension": ".py",
   "mimetype": "text/x-python",
   "name": "python",
   "nbconvert_exporter": "python",
   "pygments_lexer": "ipython3",
   "version": "3.10.6"
  },
  "orig_nbformat": 4,
  "vscode": {
   "interpreter": {
    "hash": "e4780ce94013b4ad826834d504b051d615119766f3ac7f8bac99efc1ee879921"
   }
  }
 },
 "nbformat": 4,
 "nbformat_minor": 2
}
