{
 "cells": [
  {
   "cell_type": "code",
   "execution_count": null,
   "metadata": {},
   "outputs": [],
   "source": [
    "import numpy as np\n",
    "import matplotlib.pyplot as plt\n",
    "import utils\n",
    "import algo\n",
    "import pickle\n",
    "import pandas as pd\n",
    "import os\n",
    "%matplotlib widget"
   ]
  },
  {
   "cell_type": "code",
   "execution_count": null,
   "metadata": {},
   "outputs": [],
   "source": [
    "def further_regress(eeg_multisubj, eog_multisubj, L_EEG=3, L_EOG=3):\n",
    "    _, _, N = eeg_multisubj.shape\n",
    "    eeg_clean_list = []\n",
    "    for n in range(N):\n",
    "        eeg = utils.block_Hankel(eeg_multisubj[:,:,n], L_EEG)\n",
    "        eog = utils.block_Hankel(eog_multisubj[:,:,n], L_EOG)\n",
    "        eeg_clean = utils.regress_out(eeg, eog)\n",
    "        eeg_clean_list.append(eeg_clean)\n",
    "    eeg_clean_multisubj = np.stack(eeg_clean_list, axis=2)\n",
    "    return eeg_clean_multisubj"
   ]
  },
  {
   "cell_type": "markdown",
   "metadata": {},
   "source": [
    "## Load data"
   ]
  },
  {
   "cell_type": "code",
   "execution_count": null,
   "metadata": {},
   "outputs": [],
   "source": [
    "subjects = ['Pilot_1', 'Pilot_2', 'Pilot_4', 'Pilot_5', 'Pilot_6', 'Pilot_7']\n",
    "PATTERN = 'Overlay'\n",
    "SINGLEOBJ = True\n",
    "subj_path = ['../../Experiments/data/Two_Obj/' + PATTERN + '/' + sub + '/' for sub in subjects]\n",
    "nb_subj = len(subjects)\n",
    "bads = [['A30', 'B25'], ['B25'], ['B25'], [], ['A31', 'B31'], ['B25']]\n",
    "fsStim = 30\n",
    "feats_path_folder = '../Feat_Multi/features/'"
   ]
  },
  {
   "cell_type": "code",
   "execution_count": null,
   "metadata": {},
   "outputs": [],
   "source": [
    "%%capture\n",
    "eeg_multisubj_list, eog_multisubj_list, feat_all_att_list, feat_all_unatt_list, gaze_multisubj_list, fs, len_seg_list = utils.load_data(subj_path, fsStim, bads, feats_path_folder, PATTERN, singleobj=False, LOAD_ONLY=True, ALL_NEW=False)\n",
    "eeg_multisubj_SO_list, eog_multisubj_SO_list, feat_all_SO_list, _, gaze_multisubj_SO_list, fs, len_seg_SO_list = utils.load_data(subj_path, fsStim, bads, feats_path_folder, PATTERN, singleobj=True, LOAD_ONLY=True, ALL_NEW=False)"
   ]
  },
  {
   "cell_type": "code",
   "execution_count": null,
   "metadata": {},
   "outputs": [],
   "source": [
    "# eeg_clean_list = [further_regress(eeg_multisubj, eog_multisubj) for eeg_multisubj, eog_multisubj in zip(eeg_multisubj_list, eog_multisubj_list)]"
   ]
  },
  {
   "cell_type": "code",
   "execution_count": null,
   "metadata": {},
   "outputs": [],
   "source": [
    "gaze_velocity_list = [utils.calcu_gaze_velocity(gaze) for gaze in gaze_multisubj_list]\n",
    "saccade_multisubj_list = [np.expand_dims(gaze[:,2,:], axis=1) for gaze in gaze_multisubj_list]\n",
    "blink_multisubj_list = [np.expand_dims(gaze[:,3,:], axis=1) for gaze in gaze_multisubj_list]\n",
    "saccade_multisubj_list = utils.refine_saccades(saccade_multisubj_list, blink_multisubj_list)\n",
    "eog_velocity_list = [utils.calcu_gaze_vel_from_EOG(eog) for eog in eog_multisubj_list]\n",
    "gaze_velocity_list = [utils.interpolate_blinks(gaze_velocity, blink) for gaze_velocity, blink in zip(gaze_velocity_list, blink_multisubj_list)]\n",
    "eog_velocity_list = [utils.interpolate_blinks(eog_velocity, blink) for eog_velocity, blink in zip(eog_velocity_list, blink_multisubj_list)] # Exist misalignment between eog and gaze\n",
    "data_list = [eeg_multisubj_list, eog_multisubj_list, gaze_velocity_list, eog_velocity_list, saccade_multisubj_list, feat_all_att_list, feat_all_unatt_list]"
   ]
  },
  {
   "cell_type": "code",
   "execution_count": null,
   "metadata": {},
   "outputs": [],
   "source": [
    "if SINGLEOBJ:\n",
    "    gaze_velocity_list_SO = [utils.calcu_gaze_velocity(gaze) for gaze in gaze_multisubj_SO_list]\n",
    "    saccade_multisubj_list_SO = [np.expand_dims(gaze[:,2,:], axis=1) for gaze in gaze_multisubj_SO_list]\n",
    "    blink_multisubj_list_SO = [np.expand_dims(gaze[:,3,:], axis=1) for gaze in gaze_multisubj_SO_list]\n",
    "    saccade_multisubj_list_SO = utils.refine_saccades(saccade_multisubj_list_SO, blink_multisubj_list_SO)\n",
    "    eog_velocity_list_SO = [utils.calcu_gaze_vel_from_EOG(eog) for eog in eog_multisubj_SO_list]\n",
    "    gaze_velocity_list_SO = [utils.interpolate_blinks(gaze_velocity, blink) for gaze_velocity, blink in zip(gaze_velocity_list_SO, blink_multisubj_list_SO)]\n",
    "    eog_velocity_list_SO = [utils.interpolate_blinks(eog_velocity, blink) for eog_velocity, blink in zip(eog_velocity_list_SO, blink_multisubj_list_SO)] # Exist misalignment between eog and gaze\n",
    "    data_list = [eeg_multisubj_list, eog_multisubj_list, gaze_velocity_list, eog_velocity_list, saccade_multisubj_list, feat_all_att_list, feat_all_unatt_list, eeg_multisubj_SO_list, eog_multisubj_SO_list, gaze_velocity_list_SO, eog_velocity_list_SO, saccade_multisubj_list_SO, feat_all_SO_list]"
   ]
  },
  {
   "cell_type": "code",
   "execution_count": null,
   "metadata": {},
   "outputs": [],
   "source": [
    "subj_to_check = 'Pilot_5'\n",
    "video_id = 3\n",
    "subj_ID = subjects.index(subj_to_check)\n",
    "gaze_subj = [gaze[:,:,subj_ID] for gaze in gaze_multisubj_list]\n",
    "gaze_velocity_subj = [gaze_velocity[:,:,subj_ID] for gaze_velocity in gaze_velocity_list]\n",
    "saccade_subj = [saccade[...,subj_ID] for saccade in saccade_multisubj_list]\n",
    "eog_subj = [eog[...,subj_ID] for eog in eog_multisubj_list]\n",
    "plt.close()\n",
    "plt.plot(gaze_subj[video_id][:,1], label='gaze_y')\n",
    "# plt.plot(gaze_velocity_subj[video_id], label='gaze_velocity')\n",
    "plt.plot(saccade_subj[video_id]*1000, label='saccade')\n",
    "# plt.plot((eog_subj[video_id][:,0]-eog_subj[video_id][:,1])*5e6, label='EOG_y')\n",
    "plt.legend()\n",
    "plt.show()"
   ]
  },
  {
   "cell_type": "code",
   "execution_count": null,
   "metadata": {},
   "outputs": [],
   "source": [
    "# Check the alignment between eog and gaze. The synchronization is good if the peaks of two signals (eye blinks) are aligned.\n",
    "# subj_to_check = 'Pilot_7'\n",
    "# subj_ID = subjects.index(subj_to_check)\n",
    "# utils.check_alignment(subj_ID, eog_multisubj_list, gaze_multisubj_list, nb_points=1500)"
   ]
  },
  {
   "cell_type": "code",
   "execution_count": null,
   "metadata": {},
   "outputs": [],
   "source": [
    "RemoveSC = True\n",
    "if RemoveSC:\n",
    "    for data in data_list:\n",
    "        data = [utils.remove_shot_cuts(d, fs) for d in data]"
   ]
  },
  {
   "cell_type": "code",
   "execution_count": null,
   "metadata": {},
   "outputs": [],
   "source": [
    "objflow_att_list = [feats[:,8] for feats in feat_all_att_list]\n",
    "objtempctr_att_list = [feats[:,17] for feats in feat_all_att_list]\n",
    "objflow_unatt_list = [feats[:,8] for feats in feat_all_unatt_list]\n",
    "objtempctr_unatt_list = [feats[:,17] for feats in feat_all_unatt_list]\n",
    "if SINGLEOBJ:\n",
    "    objflow_att_SO_list = [feats[:,8] for feats in feat_all_SO_list]\n",
    "    objtempctr_att_SO_list = [feats[:,17] for feats in feat_all_SO_list]"
   ]
  },
  {
   "cell_type": "code",
   "execution_count": null,
   "metadata": {},
   "outputs": [],
   "source": [
    "L_EEG = 3 \n",
    "L_Stim = int(fsStim/2) \n",
    "offset_EEG = 1 \n",
    "offset_Stim = 0 \n",
    "trial_len_list = list(range(5, 50, 5))"
   ]
  },
  {
   "cell_type": "code",
   "execution_count": null,
   "metadata": {},
   "outputs": [],
   "source": [
    "# Results saving related parameters\n",
    "CLEAR = False\n",
    "data_types = ['EEG', 'EOG', 'GAZE_V', 'EOG_V', 'SACC']\n",
    "figure_dirs = {}\n",
    "table_dirs = {}\n",
    "for data_type in data_types:\n",
    "    figure_path = f'figures/{PATTERN}/{data_type}/'\n",
    "    utils.create_dir(figure_path, CLEAR)\n",
    "    figure_dirs[data_type] = figure_path\n",
    "    table_path = f'tables/{PATTERN}/{data_type}/'\n",
    "    utils.create_dir(table_path, CLEAR)\n",
    "    table_dirs[data_type] = table_path"
   ]
  },
  {
   "cell_type": "markdown",
   "metadata": {},
   "source": [
    "## Functions"
   ]
  },
  {
   "cell_type": "code",
   "execution_count": null,
   "metadata": {},
   "outputs": [],
   "source": [
    "def pipe_att_or_unatt_LVO(Subj_ID, eeg_multisubj_list, feat_att_list, feat_unatt_list, fs, L_EEG, L_Stim, offset_EEG, offset_Stim, TRAIN_WITH_ATT, n_components=3, saccade_multisubj_list=None, V_eeg=None, V_Stim=None, PLOT=False, figure_dir=None, SAVERES=False, table_dir=None):\n",
    "    eeg_onesubj_list = [eeg[:,:,Subj_ID] for eeg in eeg_multisubj_list]\n",
    "    if saccade_multisubj_list is not None:\n",
    "        saccade_onesubj_list = [saccade[:,:,Subj_ID] for saccade in saccade_multisubj_list]\n",
    "        mask_list = utils.get_mask_list(saccade_onesubj_list, before=10, after=20)\n",
    "    else:\n",
    "        mask_list = None\n",
    "    CCA = algo.CanonicalCorrelationAnalysis(eeg_onesubj_list, feat_att_list, fs, L_EEG, L_Stim, offset_EEG, offset_Stim, n_components=n_components, mask_list=mask_list)\n",
    "    corr_att_fold, corr_unatt_fold, sig_corr_fold, forward_model_fold = CCA.att_or_unatt_LVO(feat_unatt_list, TRAIN_WITH_ATT, V_eeg=V_eeg, V_Stim=V_Stim)\n",
    "    train_type = 'SO' if V_eeg is not None else 'Att' if TRAIN_WITH_ATT else 'Unatt'\n",
    "    ifmask = True if mask_list is not None else False\n",
    "    if PLOT:\n",
    "        figure_name = f\"{figure_dir}Subj_{Subj_ID+1}_Train_{train_type}_Mask_{ifmask}_Folds.png\"\n",
    "        utils.plot_spatial_resp_fold(forward_model_fold, corr_att_fold, corr_unatt_fold, sig_corr_fold, figure_name, AVG=False)\n",
    "        utils.plot_spatial_resp_fold(forward_model_fold, corr_att_fold, corr_unatt_fold, sig_corr_fold, figure_name, AVG=True)\n",
    "    if SAVERES:\n",
    "        table_name = table_dir + f'Corr_Train_{train_type}_Mask_{ifmask}.csv'\n",
    "        # check if the file exists\n",
    "        if not os.path.isfile(table_name):\n",
    "            # create a pandas dataframe that contains Subj_ID, Corr_Att, Corr_Unatt, Sig_Corr\n",
    "            res_df = utils.create_corr_df(Subj_ID, sig_corr_fold, corr_att_fold, corr_unatt_fold)\n",
    "        else:\n",
    "            # read the dataframe\n",
    "            res_df = pd.read_csv(table_name, header=0, index_col=[0,1,2])\n",
    "            if not 'Subj '+str(Subj_ID+1) in res_df.index.get_level_values('Subject ID'):\n",
    "                res_add = utils.create_corr_df(Subj_ID, sig_corr_fold, corr_att_fold, corr_unatt_fold)\n",
    "                res_df = pd.concat([res_df, res_add], axis=0)\n",
    "        with open(table_name, 'w') as f:\n",
    "            res_df.to_csv(f, header=True)"
   ]
  },
  {
   "cell_type": "code",
   "execution_count": null,
   "metadata": {},
   "outputs": [],
   "source": [
    "def pipe_compete_trials_LVO(Subj_ID, eeg_multisubj_list, feat_att_list, feat_unatt_list, fs, L_EEG, L_Stim, offset_EEG, offset_Stim, trial_len_list, table_dir, saccade_multisubj_list=None, BOOTSTRAP=True, V_eeg=None, V_Stim=None, n_components=3, nb_comp_into_account=3, signifi_level=False, message=True):\n",
    "    res = []\n",
    "    eeg_onesubj_list = [eeg[:,:,Subj_ID] for eeg in eeg_multisubj_list]\n",
    "    if saccade_multisubj_list is not None:\n",
    "        saccade_onesubj_list = [saccade[:,:,Subj_ID] for saccade in saccade_multisubj_list]\n",
    "        mask_list = utils.get_mask_list(saccade_onesubj_list, before=10, after=20)\n",
    "    else:\n",
    "        mask_list = None\n",
    "    ifmask = True if mask_list is not None else False\n",
    "    CCA = algo.CanonicalCorrelationAnalysis(eeg_onesubj_list, feat_att_list, fs, L_EEG, L_Stim, offset_EEG, offset_Stim, n_components=n_components, mask_list=mask_list, signifi_level=signifi_level, message=message)\n",
    "    for trial_len in trial_len_list:\n",
    "        print('Trial length: ', trial_len)\n",
    "        corr_att_eeg, corr_unatt_eeg = CCA.att_or_unatt_LVO_trials(feat_unatt_list, trial_len=trial_len, BOOTSTRAP=BOOTSTRAP, V_eeg=V_eeg, V_Stim=V_Stim)\n",
    "        acc, _, _, _, _= utils.eval_compete(corr_att_eeg, corr_unatt_eeg, TRAIN_WITH_ATT=True, nb_comp_into_account=nb_comp_into_account)\n",
    "        res.append(acc)\n",
    "    train_type = 'SO' if V_eeg is not None else 'Att'\n",
    "    table_name = table_dir + f'Acc_Train_{train_type}_Mask_{ifmask}.csv'\n",
    "    if not os.path.isfile(table_name):\n",
    "        # create a pandas dataframe that contains Subj_ID, Corr_Att, Corr_Unatt, Sig_Corr\n",
    "        res_df = utils.create_acc_df(Subj_ID, trial_len_list, res)\n",
    "    else:\n",
    "        # read the dataframe\n",
    "        res_df = pd.read_csv(table_name, header=0)\n",
    "        if ('Subj ' + str(Subj_ID + 1)) not in res_df['Subject ID'].values:\n",
    "            res_add = utils.create_acc_df(Subj_ID, trial_len_list, res)\n",
    "            res_df = pd.concat([res_df, res_add], axis=0)\n",
    "    with open(table_name, 'w') as f:\n",
    "        res_df.to_csv(f, header=True, index=False)"
   ]
  },
  {
   "cell_type": "code",
   "execution_count": null,
   "metadata": {},
   "outputs": [],
   "source": [
    "def pipe_mm_trials_LVO(Subj_ID, eeg_multisubj_list, feat_match_list, fs, L_EEG, L_Stim, offset_EEG, offset_Stim, trial_len_list, table_dir, MATCHATT, saccade_multisubj_list=None, V_eeg=None, V_Stim=None, n_components=3, nb_comp_into_account=3, signifi_level=False, message=True):\n",
    "    res = []\n",
    "    eeg_onesubj_list = [eeg[:,:,Subj_ID] for eeg in eeg_multisubj_list]\n",
    "    if saccade_multisubj_list is not None:\n",
    "        saccade_onesubj_list = [saccade[:,:,Subj_ID] for saccade in saccade_multisubj_list]\n",
    "        mask_list = utils.get_mask_list(saccade_onesubj_list, before=10, after=20)\n",
    "    else:\n",
    "        mask_list = None\n",
    "    ifmask = True if mask_list is not None else False\n",
    "    CCA = algo.CanonicalCorrelationAnalysis(eeg_onesubj_list, feat_match_list, fs, L_EEG, L_Stim, offset_EEG, offset_Stim, n_components=n_components, mask_list=mask_list, signifi_level=signifi_level, message=message)\n",
    "    for trial_len in trial_len_list:\n",
    "        print('Trial length: ', trial_len)\n",
    "        corr_match_eeg, corr_mismatch_eeg = CCA.match_mismatch_LVO(trial_len=trial_len, V_eeg=V_eeg, V_Stim=V_Stim)\n",
    "        acc, _, _ = utils.eval_mm(corr_match_eeg, corr_mismatch_eeg, nb_comp_into_account)\n",
    "        res.append(acc)\n",
    "    train_type = 'SO' if V_eeg is not None else 'Att' if MATCHATT else 'Unatt'\n",
    "    table_name = table_dir + f'Acc_MM_Train_{train_type}_Mask_{ifmask}.csv'\n",
    "    if not os.path.isfile(table_name):\n",
    "        # create a pandas dataframe that contains Subj_ID, Corr_Att, Corr_Unatt, Sig_Corr\n",
    "        res_df = utils.create_acc_df(Subj_ID, trial_len_list, res)\n",
    "        res_df.rename(columns={'Att': 'Match', 'Unatt': 'Mismatch'}, inplace=True)\n",
    "    else:\n",
    "        # read the dataframe\n",
    "        res_df = pd.read_csv(table_name, header=0)\n",
    "        if ('Subj ' + str(Subj_ID + 1)) not in res_df['Subject ID'].values:\n",
    "            res_add = utils.create_acc_df(Subj_ID, trial_len_list, res)\n",
    "            res_add.rename(columns={'Att': 'Match', 'Unatt': 'Mismatch'}, inplace=True)\n",
    "            res_df = pd.concat([res_df, res_add], axis=0)\n",
    "    with open(table_name, 'w') as f:\n",
    "        res_df.to_csv(f, header=True, index=False)"
   ]
  },
  {
   "cell_type": "code",
   "execution_count": null,
   "metadata": {},
   "outputs": [],
   "source": [
    "def pipe_single_obj(Subj_ID, eeg_multisubj_list, feat_list, fs, L_EEG, L_Stim, offset_EEG, offset_Stim, figure_dir, table_dir, saccade_multisubj_list=None, n_components=3, PLOT=False):\n",
    "    eeg_onesubj_list = [eeg[:,:,Subj_ID] for eeg in eeg_multisubj_list]\n",
    "    if saccade_multisubj_list is not None:\n",
    "        saccade_onesubj_list = [saccade[:,:,Subj_ID] for saccade in saccade_multisubj_list]\n",
    "        mask_list = utils.get_mask_list(saccade_onesubj_list, before=10, after=20)\n",
    "    else:\n",
    "        mask_list = None\n",
    "    ifmask = True if mask_list is not None else False\n",
    "    CCA = algo.CanonicalCorrelationAnalysis(eeg_onesubj_list, feat_list, fs, L_EEG, L_Stim, offset_EEG, offset_Stim, n_components=n_components, mask_list=mask_list)\n",
    "    corr_train_fold, corr_test_fold, sig_corr_fold, forward_model_fold = CCA.cross_val_LVO()\n",
    "    if PLOT:\n",
    "        figure_name = f\"{figure_dir}Subj_{Subj_ID+1}_Folds.png\"\n",
    "        utils.plot_spatial_resp_fold(forward_model_fold, corr_test_fold, None, sig_corr_fold, figure_name, AVG=False)\n",
    "        utils.plot_spatial_resp_fold(forward_model_fold, corr_test_fold, None, sig_corr_fold, figure_name, AVG=True)\n",
    "    table_name = table_dir + f'Corr_SO_Mask_{ifmask}.csv'\n",
    "    # check if the file exists\n",
    "    if not os.path.isfile(table_name):\n",
    "        # create a pandas dataframe that contains Subj_ID, Corr_Att, Corr_Unatt, Sig_Corr\n",
    "        res_df = utils.create_corr_df(Subj_ID, sig_corr_fold, corr_train_fold, corr_test_fold)\n",
    "        res_df.rename(columns={'Att': 'Train', 'Unatt': 'Test'}, inplace=True)\n",
    "    else:\n",
    "        # read the dataframe\n",
    "        res_df = pd.read_csv(table_name, header=0, index_col=[0,1,2])\n",
    "        if not 'Subj '+str(Subj_ID+1) in res_df.index.get_level_values('Subject ID'):\n",
    "            res_add = utils.create_corr_df(Subj_ID, sig_corr_fold, corr_train_fold, corr_test_fold)\n",
    "            res_add.rename(columns={'Att': 'Train', 'Unatt': 'Test'}, inplace=True)\n",
    "            res_df = pd.concat([res_df, res_add], axis=0)\n",
    "    with open(table_name, 'w') as f:\n",
    "        res_df.to_csv(f, header=True)\n",
    "    EEG_all = np.concatenate(eeg_onesubj_list, axis=0)\n",
    "    feat_all = np.concatenate(feat_list, axis=0)\n",
    "    _, _, _, _, V_eeg_SO, V_stim_SO, _ = CCA.fit(EEG_all, feat_all)\n",
    "    return V_eeg_SO, V_stim_SO"
   ]
  },
  {
   "cell_type": "markdown",
   "metadata": {},
   "source": [
    "## If contains single object dataset"
   ]
  },
  {
   "cell_type": "code",
   "execution_count": null,
   "metadata": {},
   "outputs": [],
   "source": [
    "if SINGLEOBJ:\n",
    "    for Subj_ID in range(len(subjects)):\n",
    "        feat_train_list = objflow_att_SO_list\n",
    "        V_eeg_SO, V_stim_SO = pipe_single_obj(Subj_ID, eeg_multisubj_SO_list, feat_train_list, fs, L_EEG, L_Stim, offset_EEG, offset_Stim, figure_dirs['EEG'], table_dirs['EEG'], saccade_multisubj_list=None, n_components=3, PLOT=True)\n",
    "        feat_att_list = objflow_att_list\n",
    "        feat_unatt_list = objflow_unatt_list\n",
    "        pipe_att_or_unatt_LVO(Subj_ID, eeg_multisubj_list, feat_att_list, feat_unatt_list, fs, L_EEG, L_Stim, offset_EEG, offset_Stim, TRAIN_WITH_ATT=True, PLOT=True, figure_dir=figure_dirs['EEG'], SAVERES=True, table_dir=table_dirs['EEG'], V_eeg=V_eeg_SO, V_Stim=V_stim_SO)\n",
    "        pipe_compete_trials_LVO(Subj_ID, eeg_multisubj_list, feat_att_list, feat_unatt_list, fs, L_EEG, L_Stim, offset_EEG, offset_Stim, trial_len_list, table_dirs['EEG'], V_eeg=V_eeg_SO, V_Stim=V_stim_SO)"
   ]
  },
  {
   "cell_type": "markdown",
   "metadata": {},
   "source": [
    "## Mode=Compete: Discriminating between attended and unattended segments"
   ]
  },
  {
   "cell_type": "code",
   "execution_count": null,
   "metadata": {},
   "outputs": [],
   "source": [
    "feat_att_list = objflow_att_list\n",
    "feat_unatt_list = objflow_unatt_list"
   ]
  },
  {
   "cell_type": "code",
   "execution_count": null,
   "metadata": {},
   "outputs": [],
   "source": [
    "for Subj_ID in range(len(subjects)):\n",
    "    pipe_att_or_unatt_LVO(Subj_ID, eeg_multisubj_list, feat_att_list, feat_unatt_list, fs, L_EEG, L_Stim, offset_EEG, offset_Stim, TRAIN_WITH_ATT=True, PLOT=True, figure_dir=figure_dirs['EEG'], SAVERES=True, table_dir=table_dirs['EEG'])\n",
    "    pipe_att_or_unatt_LVO(Subj_ID, eog_multisubj_list, feat_att_list, feat_unatt_list, fs, L_EEG, L_Stim, offset_EEG, offset_Stim, TRAIN_WITH_ATT=True, SAVERES=True, table_dir=table_dirs['EOG'])\n",
    "    pipe_att_or_unatt_LVO(Subj_ID, gaze_velocity_list, feat_att_list, feat_unatt_list, fs, L_EEG, L_Stim, offset_EEG, offset_Stim, TRAIN_WITH_ATT=True, SAVERES=True, table_dir=table_dirs['GAZE_V'])\n",
    "    pipe_att_or_unatt_LVO(Subj_ID, eog_velocity_list, feat_att_list, feat_unatt_list, fs, L_EEG, L_Stim, offset_EEG, offset_Stim, TRAIN_WITH_ATT=True, SAVERES=True, table_dir=table_dirs['EOG_V'])\n",
    "    pipe_att_or_unatt_LVO(Subj_ID, saccade_multisubj_list, feat_att_list, feat_unatt_list, fs, L_EEG, L_Stim, offset_EEG, offset_Stim, TRAIN_WITH_ATT=True, SAVERES=True, table_dir=table_dirs['SACC'])"
   ]
  },
  {
   "cell_type": "code",
   "execution_count": null,
   "metadata": {},
   "outputs": [],
   "source": [
    "for Subj_ID in range(len(subjects)):\n",
    "    pipe_compete_trials_LVO(Subj_ID, eeg_multisubj_list, feat_att_list, feat_unatt_list, fs, L_EEG, L_Stim, offset_EEG, offset_Stim, trial_len_list, table_dirs['EEG'])\n",
    "    pipe_compete_trials_LVO(Subj_ID, eog_multisubj_list, feat_att_list, feat_unatt_list, fs, L_EEG, L_Stim, offset_EEG, offset_Stim, trial_len_list, table_dirs['EOG'])\n",
    "    pipe_compete_trials_LVO(Subj_ID, gaze_velocity_list, feat_att_list, feat_unatt_list, fs, L_EEG, L_Stim, offset_EEG, offset_Stim, trial_len_list, table_dirs['GAZE_V'])\n",
    "    pipe_compete_trials_LVO(Subj_ID, eog_velocity_list, feat_att_list, feat_unatt_list, fs, L_EEG, L_Stim, offset_EEG, offset_Stim, trial_len_list, table_dirs['EOG_V'])\n",
    "    pipe_compete_trials_LVO(Subj_ID, saccade_multisubj_list, feat_att_list, feat_unatt_list, fs, L_EEG, L_Stim, offset_EEG, offset_Stim, trial_len_list, table_dirs['SACC'])"
   ]
  },
  {
   "cell_type": "code",
   "execution_count": null,
   "metadata": {},
   "outputs": [],
   "source": []
  },
  {
   "cell_type": "markdown",
   "metadata": {},
   "source": [
    "## Mode=Match-Mismatch: Discriminating between match and mismatch segments"
   ]
  },
  {
   "cell_type": "code",
   "execution_count": null,
   "metadata": {},
   "outputs": [],
   "source": [
    "for Subj_ID in range(len(subjects)):\n",
    "    feat_match_list = objflow_att_list\n",
    "    pipe_mm_trials_LVO(Subj_ID, eeg_multisubj_list, feat_match_list, fs, L_EEG, L_Stim, offset_EEG, offset_Stim, trial_len_list, table_dirs['EEG'], MATCHATT=True, saccade_multisubj_list=None)\n",
    "    feat_match_list = objflow_unatt_list\n",
    "    pipe_mm_trials_LVO(Subj_ID, eeg_multisubj_list, feat_match_list, fs, L_EEG, L_Stim, offset_EEG, offset_Stim, trial_len_list, table_dirs['EEG'], MATCHATT=False, saccade_multisubj_list=None)"
   ]
  },
  {
   "cell_type": "code",
   "execution_count": null,
   "metadata": {},
   "outputs": [],
   "source": []
  },
  {
   "cell_type": "markdown",
   "metadata": {},
   "source": [
    "## What to do with the saccades"
   ]
  },
  {
   "cell_type": "code",
   "execution_count": null,
   "metadata": {},
   "outputs": [],
   "source": [
    "for Subj_ID in range(len(subjects)):\n",
    "    pipe_att_or_unatt_LVO(Subj_ID, eeg_multisubj_list, feat_att_list, feat_unatt_list, fs, L_EEG, L_Stim, offset_EEG, offset_Stim, TRAIN_WITH_ATT=True, saccade_multisubj_list=saccade_multisubj_list, PLOT=True, figure_dir=figure_dirs['EEG'], SAVERES=True, table_dir=table_dirs['EEG'])\n",
    "    pipe_att_or_unatt_LVO(Subj_ID, eog_multisubj_list, feat_att_list, feat_unatt_list, fs, L_EEG, L_Stim, offset_EEG, offset_Stim, TRAIN_WITH_ATT=True, saccade_multisubj_list=saccade_multisubj_list, SAVERES=True, table_dir=table_dirs['EOG'])\n",
    "    pipe_att_or_unatt_LVO(Subj_ID, gaze_velocity_list, feat_att_list, feat_unatt_list, fs, L_EEG, L_Stim, offset_EEG, offset_Stim, TRAIN_WITH_ATT=True, saccade_multisubj_list=saccade_multisubj_list, SAVERES=True, table_dir=table_dirs['GAZE_V'])\n",
    "    pipe_att_or_unatt_LVO(Subj_ID, eog_velocity_list, feat_att_list, feat_unatt_list, fs, L_EEG, L_Stim, offset_EEG, offset_Stim, TRAIN_WITH_ATT=True, saccade_multisubj_list=saccade_multisubj_list, SAVERES=True, table_dir=table_dirs['EOG_V'])"
   ]
  },
  {
   "cell_type": "code",
   "execution_count": null,
   "metadata": {},
   "outputs": [],
   "source": [
    "for Subj_ID in range(len(subjects)):\n",
    "    pipe_compete_trials_LVO(Subj_ID, eeg_multisubj_list, feat_att_list, feat_unatt_list, fs, L_EEG, L_Stim, offset_EEG, offset_Stim, trial_len_list, table_dirs['EEG'], saccade_multisubj_list=saccade_multisubj_list)\n",
    "    pipe_compete_trials_LVO(Subj_ID, eog_multisubj_list, feat_att_list, feat_unatt_list, fs, L_EEG, L_Stim, offset_EEG, offset_Stim, trial_len_list, table_dirs['EOG'], saccade_multisubj_list=saccade_multisubj_list)\n",
    "    pipe_compete_trials_LVO(Subj_ID, gaze_velocity_list, feat_att_list, feat_unatt_list, fs, L_EEG, L_Stim, offset_EEG, offset_Stim, trial_len_list, table_dirs['GAZE_V'], saccade_multisubj_list=saccade_multisubj_list)\n",
    "    pipe_compete_trials_LVO(Subj_ID, eog_velocity_list, feat_att_list, feat_unatt_list, fs, L_EEG, L_Stim, offset_EEG, offset_Stim, trial_len_list, table_dirs['EOG_V'], saccade_multisubj_list=saccade_multisubj_list)"
   ]
  },
  {
   "cell_type": "code",
   "execution_count": null,
   "metadata": {},
   "outputs": [],
   "source": []
  },
  {
   "cell_type": "markdown",
   "metadata": {},
   "source": [
    "## Making use of multi-modal data"
   ]
  },
  {
   "cell_type": "code",
   "execution_count": 108,
   "metadata": {},
   "outputs": [],
   "source": [
    "def stack_modal(modal_nested_list):\n",
    "    nb_video = len(modal_nested_list[0])\n",
    "    stacked_list = []\n",
    "    for i in range(nb_video):\n",
    "        modal_list = [modal[i] for modal in modal_nested_list]\n",
    "        modal_stacked = np.concatenate(tuple(modal_list), axis=1)\n",
    "        stacked_list.append(modal_stacked)\n",
    "    return stacked_list"
   ]
  },
  {
   "cell_type": "code",
   "execution_count": 109,
   "metadata": {},
   "outputs": [],
   "source": [
    "modal_dict = {'EEG': eeg_multisubj_list, 'EOG': eog_multisubj_list, 'GAZE_V': gaze_velocity_list}\n",
    "comb_dict = {'EEG_EOG': stack_modal([modal_dict['EEG'], modal_dict['EOG']]), \n",
    "             'EEG_GAZE_V': stack_modal([modal_dict['EEG'], modal_dict['GAZE_V']]), \n",
    "             'EOG_GAZE_V': stack_modal([modal_dict['EOG'], modal_dict['GAZE_V']]), \n",
    "             'EEG_EOG_GAZE_V': stack_modal([modal_dict['EEG'], modal_dict['EOG'], modal_dict['GAZE_V']])}"
   ]
  },
  {
   "cell_type": "code",
   "execution_count": null,
   "metadata": {},
   "outputs": [],
   "source": [
    "for comb, modal in comb_dict.items():\n",
    "    table_path = f'tables/{PATTERN}/{comb}/'\n",
    "    utils.create_dir(table_path, CLEAR)\n",
    "    for Subj_ID in range(len(subjects)):\n",
    "        pipe_att_or_unatt_LVO(Subj_ID, modal, feat_att_list, feat_unatt_list, fs, L_EEG, L_Stim, offset_EEG, offset_Stim, TRAIN_WITH_ATT=True, SAVERES=True, table_dir=table_path)\n",
    "        pipe_compete_trials_LVO(Subj_ID, modal, feat_att_list, feat_unatt_list, fs, L_EEG, L_Stim, offset_EEG, offset_Stim, trial_len_list, table_path)"
   ]
  },
  {
   "cell_type": "code",
   "execution_count": null,
   "metadata": {},
   "outputs": [],
   "source": []
  }
 ],
 "metadata": {
  "kernelspec": {
   "display_name": "signal",
   "language": "python",
   "name": "python3"
  },
  "language_info": {
   "codemirror_mode": {
    "name": "ipython",
    "version": 3
   },
   "file_extension": ".py",
   "mimetype": "text/x-python",
   "name": "python",
   "nbconvert_exporter": "python",
   "pygments_lexer": "ipython3",
   "version": "3.10.6"
  }
 },
 "nbformat": 4,
 "nbformat_minor": 2
}
