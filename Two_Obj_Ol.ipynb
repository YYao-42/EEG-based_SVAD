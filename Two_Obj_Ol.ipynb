{
 "cells": [
  {
   "cell_type": "code",
   "execution_count": null,
   "metadata": {},
   "outputs": [],
   "source": [
    "import numpy as np\n",
    "import matplotlib.pyplot as plt\n",
    "import utils\n",
    "import algo\n",
    "import os\n",
    "import pickle\n",
    "%matplotlib widget"
   ]
  },
  {
   "cell_type": "markdown",
   "metadata": {},
   "source": [
    "### Load data"
   ]
  },
  {
   "cell_type": "code",
   "execution_count": null,
   "metadata": {},
   "outputs": [],
   "source": [
    "subjects = ['Pilot_1', 'Pilot_2', 'Pilot_4', 'Pilot_5']\n",
    "PATTERN = 'Overlay'\n",
    "subj_path = ['../../Experiments/data/Two_Obj/' + PATTERN + '/' + sub + '/' for sub in subjects]\n",
    "nb_subj = len(subjects)\n",
    "bads = [['A30', 'B25'], ['B25'], ['B25'], []]\n",
    "fsStim = 30\n",
    "feats_path_folder = '../Feat_Multi/features/'"
   ]
  },
  {
   "cell_type": "code",
   "execution_count": null,
   "metadata": {},
   "outputs": [],
   "source": [
    "%%capture\n",
    "eeg_multisubj_list, eog_multisubj_list, feat_all_att_list, feat_all_unatt_list, gaze_multisubj_list, fs, len_seg_list = utils.load_data(subj_path, fsStim, bads, feats_path_folder, PATTERN, singleobj=False, LOAD_ONLY=True, ALL_NEW=False)\n",
    "eeg_multisubj_SO_list, eog_multisubj_SO_list, feat_all_SO_list, _, gaze_multisubj_SO_list, fs, len_seg_SO_list = utils.load_data(subj_path, fsStim, bads, feats_path_folder, PATTERN, singleobj=True, LOAD_ONLY=True, ALL_NEW=False)"
   ]
  },
  {
   "cell_type": "code",
   "execution_count": null,
   "metadata": {},
   "outputs": [],
   "source": [
    "# Check the alignment between eog and gaze. The synchronization is good if the peaks of two signals (eye blinks) are aligned.\n",
    "# subj_to_check = 'Pilot_5'\n",
    "# subj_ID = subjects.index(subj_to_check)\n",
    "# utils.check_alignment(subj_ID, eog_multisubj_list, gaze_multisubj_list, nb_points=500)"
   ]
  },
  {
   "cell_type": "code",
   "execution_count": null,
   "metadata": {},
   "outputs": [],
   "source": [
    "RemoveSC = True\n",
    "if RemoveSC:\n",
    "    eeg_multisubj_list = [utils.remove_shot_cuts(eeg, fs) for eeg in eeg_multisubj_list]\n",
    "    eog_multisubj_list = [utils.remove_shot_cuts(eog, fs) for eog in eog_multisubj_list]\n",
    "    gaze_multisubj_list = [utils.remove_shot_cuts(gaze, fs) for gaze in gaze_multisubj_list]\n",
    "    feat_all_att_list = [utils.remove_shot_cuts(feat, fs) for feat in feat_all_att_list]\n",
    "    feat_all_unatt_list = [utils.remove_shot_cuts(feat, fs) for feat in feat_all_unatt_list]\n",
    "    eeg_multisubj_SO_list = [utils.remove_shot_cuts(eeg, fs) for eeg in eeg_multisubj_SO_list]\n",
    "    eog_multisubj_SO_list = [utils.remove_shot_cuts(eog, fs) for eog in eog_multisubj_SO_list]\n",
    "    gaze_multisubj_SO_list = [utils.remove_shot_cuts(gaze, fs) for gaze in gaze_multisubj_SO_list]\n",
    "    feat_all_SO_list = [utils.remove_shot_cuts(feat, fs) for feat in feat_all_SO_list]"
   ]
  },
  {
   "cell_type": "code",
   "execution_count": null,
   "metadata": {},
   "outputs": [],
   "source": [
    "# eeg_band_list = [utils.extract_freq_band(eeg, fsStim, band=[0.1,5]) for eeg in eeg_multisubj_list]"
   ]
  },
  {
   "cell_type": "code",
   "execution_count": null,
   "metadata": {},
   "outputs": [],
   "source": [
    "objflow_att_list = [feats[:,8] for feats in feat_all_att_list]\n",
    "objtempctr_att_list = [feats[:,17] for feats in feat_all_att_list]\n",
    "objflow_unatt_list = [feats[:,8] for feats in feat_all_unatt_list]\n",
    "objtempctr_unatt_list = [feats[:,17] for feats in feat_all_unatt_list]\n",
    "objflow_att_SO_list = [feats[:,8] for feats in feat_all_SO_list]\n",
    "objtempctr_att_SO_list = [feats[:,17] for feats in feat_all_SO_list]"
   ]
  },
  {
   "cell_type": "code",
   "execution_count": null,
   "metadata": {},
   "outputs": [],
   "source": [
    "L_EEG = 3 \n",
    "L_Stim = int(fsStim/2) \n",
    "offset_EEG = 1 \n",
    "offset_Stim = 0 \n",
    "trial_len_list = list(range(5, 125, 5))\n",
    "singleobj = False"
   ]
  },
  {
   "cell_type": "code",
   "execution_count": null,
   "metadata": {},
   "outputs": [],
   "source": [
    "# Results saving related parameters\n",
    "obj_type = 'SingleObj' if singleobj else 'TwoObj'\n",
    "data_types = ['EEG', 'EOG', 'ET']\n",
    "figure_dirs = {}\n",
    "table_dirs = {}\n",
    "for data_type in data_types:\n",
    "    figure_path = f'figures/{PATTERN}/{obj_type}/{data_type}/'\n",
    "    utils.create_dir(figure_path)\n",
    "    figure_dirs[data_type] = figure_path\n",
    "    table_path = f'tables/{PATTERN}/{obj_type}/{data_type}/'\n",
    "    utils.create_dir(table_path)\n",
    "    table_dirs[data_type] = table_path"
   ]
  },
  {
   "cell_type": "markdown",
   "metadata": {},
   "source": [
    "### If there is only one object"
   ]
  },
  {
   "cell_type": "code",
   "execution_count": null,
   "metadata": {},
   "outputs": [],
   "source": [
    "def pipe_single_obj(Subj_ID, eeg_multisubj_list, feat_match_list, fs, L_EEG, L_Stim, offset_EEG, offset_Stim, figure_dir, table_dir, nb_trials=100, fold=5, n_components=5, PLOT=False, trial_len=60, trial_len_list=None, nb_comp_into_account=2):\n",
    "    eeg_onesubj_list = [eeg[:,:,Subj_ID] for eeg in eeg_multisubj_list]\n",
    "    CCA = algo.CanonicalCorrelationAnalysis(eeg_onesubj_list, feat_match_list, fs, L_EEG, L_Stim, offset_EEG, offset_Stim, fold=fold, n_components=n_components)\n",
    "    _, corr_test, sig_corr, _, _, _, _, V_A_train, _ = CCA.cross_val(trial_len)\n",
    "    # find the indices of np.average(corr_test, axis=0) > sig_corr\n",
    "    idx_sig = np.where(np.average(corr_test, axis=0) > sig_corr)[0]\n",
    "    if PLOT:\n",
    "        eeg_onesub = np.concatenate(tuple(eeg_onesubj_list), axis=0)\n",
    "        forward_model = CCA.forward_model(eeg_onesub, V_A_train)\n",
    "        figure_name = figure_dir + 'Subj_' + str(Subj_ID) + '_Trial_len_' + str(trial_len) +  '.png'\n",
    "        utils.plot_spatial_resp(forward_model, corr_test, figure_name, idx_sig=idx_sig)\n",
    "    if trial_len_list is not None:\n",
    "        acc_list = []\n",
    "        p_value_list = []\n",
    "        acc_sig_list = []\n",
    "        for trial_len in trial_len_list:\n",
    "            corr_match_fold, corr_mismatch_fold = CCA.match_mismatch(trial_len, nb_trials, feat_distract_list=None)\n",
    "            acc, p_value, acc_sig = utils.eval_mm(corr_match_fold, corr_mismatch_fold, nb_comp_into_account)\n",
    "            acc_list.append(acc)\n",
    "            p_value_list.append(p_value)\n",
    "            acc_sig_list.append(acc_sig)\n",
    "        # save the results\n",
    "        results = {'acc': acc_list, 'pvalue': p_value_list, 'acc_sig': acc_sig_list, 'trial_len_list': trial_len_list}\n",
    "        table_name = table_dir + 'Subj_' + str(Subj_ID) + '_mm.pkl'\n",
    "        with open(table_name, 'wb') as f:\n",
    "            pickle.dump(results, f)"
   ]
  },
  {
   "cell_type": "code",
   "execution_count": null,
   "metadata": {},
   "outputs": [],
   "source": [
    "if singleobj:\n",
    "    Subj_ID = 3\n",
    "    feat_list = objflow_att_SO_list\n",
    "    pipe_single_obj(Subj_ID, eeg_multisubj_SO_list, feat_list, fs, L_EEG, L_Stim, offset_EEG, offset_Stim, figure_dirs['EEG'], table_dirs['EEG'], fold=5, n_components=5, PLOT=True, trial_len=60, trial_len_list=None, nb_comp_into_account=2)"
   ]
  },
  {
   "cell_type": "code",
   "execution_count": null,
   "metadata": {},
   "outputs": [],
   "source": [
    "if singleobj:\n",
    "    eeg_onesubj_SO_list = [eeg[:,:,Subj_ID] for eeg in eeg_multisubj_SO_list]\n",
    "    CCA_SO = algo.CanonicalCorrelationAnalysis(eeg_onesubj_SO_list, feat_list, fs, L_EEG, L_Stim, offset_EEG, offset_Stim, n_components=5)\n",
    "    EEG_SO = np.concatenate(tuple(eeg_onesubj_SO_list), axis=0)\n",
    "    feat_SO = np.concatenate(tuple(feat_all_SO_list), axis=0)\n",
    "    _, _, _, _, V_eeg_SO, V_stim_SO, Lam = CCA_SO.fit(EEG_SO, feat_SO)"
   ]
  },
  {
   "cell_type": "code",
   "execution_count": null,
   "metadata": {},
   "outputs": [],
   "source": []
  },
  {
   "cell_type": "markdown",
   "metadata": {},
   "source": [
    "### Mode=Compete: Discriminating between attended and unattended segments"
   ]
  },
  {
   "cell_type": "code",
   "execution_count": null,
   "metadata": {},
   "outputs": [],
   "source": [
    "def pipe_att_or_unatt(Subj_ID, eeg_multisubj_list, feat_att_list, feat_unatt_list, fs, L_EEG, L_Stim, offset_EEG, offset_Stim, TRAIN_WITH_ATT, nb_trials=None, V_eeg=None, V_Stim=None, figure_dir=None, trial_len=60, fold=5, n_components=5, nb_comp_into_account=2, PLOT=False, signifi_level=True, message=True):\n",
    "    eeg_onesubj_list = [eeg[:,:,Subj_ID] for eeg in eeg_multisubj_list]\n",
    "    CCA = algo.CanonicalCorrelationAnalysis(eeg_onesubj_list, feat_att_list, fs, L_EEG, L_Stim, offset_EEG, offset_Stim, fold=fold, n_components=n_components, signifi_level=signifi_level, message=message)\n",
    "    corr_att_fold, corr_unatt_fold, V_eeg_train, V_feat_train, sig_corr_att, sig_corr_unatt = CCA.att_or_unatt(feat_unatt_list, trial_len=trial_len, TRAIN_WITH_ATT=TRAIN_WITH_ATT, V_eeg=V_eeg, V_Stim=V_Stim, nb_trials=nb_trials)\n",
    "    acc, p_value, acc_sig, corr_att_cv, corr_unatt_cv= utils.eval_compete(corr_att_fold, corr_unatt_fold, TRAIN_WITH_ATT, nb_comp_into_account)\n",
    "    if PLOT:\n",
    "        # find the indices components with corr > sig_corr\n",
    "        idx_sig_att = np.where(corr_att_cv > sig_corr_att)[0]\n",
    "        idx_sig_unatt = np.where(corr_unatt_cv > sig_corr_unatt)[0]\n",
    "        eeg_onesub = np.concatenate(tuple(eeg_onesubj_list), axis=0)\n",
    "        forward_model = CCA.forward_model(eeg_onesub, V_eeg_train)\n",
    "        if V_eeg is not None:\n",
    "            figure_name_att = figure_dir + 'Subj_' + str(Subj_ID) + '_Trial_len_' + str(trial_len) + '_Train_SO_Test_Att.png'\n",
    "            figure_name_unatt = figure_dir + 'Subj_' + str(Subj_ID) + '_Trial_len_' + str(trial_len) + '_Train_SO_Test_Unatt.png'\n",
    "        else:\n",
    "            figure_name_att = figure_dir + 'Subj_' + str(Subj_ID) + '_Trial_len_' + str(trial_len) +  '_Train_Att_Test_Att.png' if TRAIN_WITH_ATT else figure_dir + 'Subj_' + str(Subj_ID) + '_Trial_len_' + str(trial_len) + '_Train_Unatt_Test_Att.png'\n",
    "            figure_name_unatt = figure_dir + 'Subj_' + str(Subj_ID) + '_Trial_len_' + str(trial_len) + '_Train_Att_Test_Unatt.png' if TRAIN_WITH_ATT else figure_dir + 'Subj_' + str(Subj_ID) + '_Trial_len_' + str(trial_len) + '_Train_Unatt_Test_Unatt.png'\n",
    "        utils.plot_spatial_resp(forward_model, corr_att_fold, figure_name_att, idx_sig=idx_sig_att)\n",
    "        utils.plot_spatial_resp(forward_model, corr_unatt_fold, figure_name_unatt, idx_sig=idx_sig_unatt)\n",
    "    return acc, p_value, acc_sig, corr_att_cv, corr_unatt_cv"
   ]
  },
  {
   "cell_type": "code",
   "execution_count": null,
   "metadata": {},
   "outputs": [],
   "source": [
    "def pipe_compete_trials(Subj_ID, eeg_multisubj_list, feat_att_list, feat_unatt_list, fs, L_EEG, L_Stim, offset_EEG, offset_Stim, trial_len_list, table_dir, TRAIN_WITH_ATT, nb_trials=100, V_eeg=None, V_Stim=None, fold=5, n_components=5, nb_comp_into_account=2):\n",
    "    acc_list = []\n",
    "    p_value_list = []\n",
    "    acc_sig_list = []\n",
    "    for trial_len in trial_len_list:\n",
    "        print('Trial length: ', trial_len)\n",
    "        acc, p_value, acc_sig, _, _ = pipe_att_or_unatt(Subj_ID, eeg_multisubj_list, feat_att_list, feat_unatt_list, fs, L_EEG, L_Stim, offset_EEG, offset_Stim, TRAIN_WITH_ATT=TRAIN_WITH_ATT, nb_trials=nb_trials, V_eeg=V_eeg, V_Stim=V_Stim, trial_len=trial_len, fold=fold, n_components=n_components, nb_comp_into_account=nb_comp_into_account, signifi_level=False, message=False)\n",
    "        acc_list.append(acc)\n",
    "        p_value_list.append(p_value)\n",
    "        acc_sig_list.append(acc_sig)\n",
    "        # save the results\n",
    "    results = {'acc': acc_list, 'pvalue': p_value_list, 'acc_sig': acc_sig_list, 'trial_len_list': trial_len_list}\n",
    "    table_name = table_dir + 'Subj_' + str(Subj_ID) + '_compete_att.pkl' if TRAIN_WITH_ATT else table_dir + 'Subj_' + str(Subj_ID) + '_compete_unatt.pkl'\n",
    "    with open(table_name, 'wb') as f:\n",
    "        pickle.dump(results, f)"
   ]
  },
  {
   "cell_type": "code",
   "execution_count": null,
   "metadata": {},
   "outputs": [],
   "source": [
    "feat_att_list = objflow_att_list\n",
    "feat_unatt_list = objflow_unatt_list"
   ]
  },
  {
   "cell_type": "code",
   "execution_count": null,
   "metadata": {},
   "outputs": [],
   "source": [
    "Subj_ID = 3\n",
    "acc, p_value, acc_sig, corr_att_cv, corr_unatt_cv= pipe_att_or_unatt(Subj_ID, eeg_multisubj_list, feat_att_list, feat_unatt_list, fs, L_EEG, L_Stim, offset_EEG, offset_Stim, TRAIN_WITH_ATT=True, figure_dir=figure_dirs['EEG'], trial_len=None, PLOT=False)\n",
    "acc, p_value, acc_sig, corr_att_cv, corr_unatt_cv = pipe_att_or_unatt(Subj_ID, eeg_multisubj_list, feat_att_list, feat_unatt_list, fs, L_EEG, L_Stim, offset_EEG, offset_Stim, TRAIN_WITH_ATT=False, figure_dir=figure_dirs['EEG'], trial_len=None, PLOT=False)"
   ]
  },
  {
   "cell_type": "code",
   "execution_count": null,
   "metadata": {},
   "outputs": [],
   "source": [
    "pipe_compete_trials(Subj_ID, eeg_multisubj_list, feat_att_list, feat_unatt_list, fs, L_EEG, L_Stim, offset_EEG, offset_Stim, trial_len_list, table_dirs['EEG'], TRAIN_WITH_ATT=True)\n",
    "pipe_compete_trials(Subj_ID, eeg_multisubj_list, feat_att_list, feat_unatt_list, fs, L_EEG, L_Stim, offset_EEG, offset_Stim, trial_len_list, table_dirs['EEG'], TRAIN_WITH_ATT=False)"
   ]
  },
  {
   "cell_type": "code",
   "execution_count": null,
   "metadata": {},
   "outputs": [],
   "source": []
  },
  {
   "cell_type": "markdown",
   "metadata": {},
   "source": [
    "## Mode=Match-Mismatch: Discriminating between match and mismatch segments"
   ]
  },
  {
   "cell_type": "code",
   "execution_count": null,
   "metadata": {},
   "outputs": [],
   "source": [
    "def pipe_mm_trials(Subj_ID, eeg_multisubj_list, feat_match_list, feat_distract_list, fs, L_EEG, L_Stim, offset_EEG, offset_Stim, trial_len_list, table_dir, MATCHATT, nb_trials=100, V_eeg=None, V_Stim=None, fold=5, n_components=5, nb_comp_into_account=2):\n",
    "    acc_list = []\n",
    "    p_value_list = []\n",
    "    acc_sig_list = []\n",
    "    eeg_onesubj_list = [eeg[:,:,Subj_ID] for eeg in eeg_multisubj_list]\n",
    "    for trial_len in trial_len_list:\n",
    "        print('Trial length: ', trial_len)\n",
    "        CCA = algo.CanonicalCorrelationAnalysis(eeg_onesubj_list, feat_match_list, fs, L_EEG, L_Stim, offset_EEG, offset_Stim, fold=fold, n_components=n_components, signifi_level=False, message=False)\n",
    "        corr_match_fold, corr_mismatch_fold = CCA.match_mismatch(trial_len, nb_trials, feat_distract_list, V_eeg=V_eeg, V_Stim=V_Stim)\n",
    "        acc, p_value, acc_sig = utils.eval_mm(corr_match_fold, corr_mismatch_fold, nb_comp_into_account)\n",
    "        acc_list.append(acc)\n",
    "        p_value_list.append(p_value)\n",
    "        acc_sig_list.append(acc_sig)\n",
    "        # save the results\n",
    "    results = {'acc': acc_list, 'pvalue': p_value_list, 'acc_sig': acc_sig_list, 'trial_len_list': trial_len_list}\n",
    "    table_name = table_dir + 'Subj_' + str(Subj_ID) + '_match_att.pkl' if MATCHATT else table_dir + 'Subj_' + str(Subj_ID) + '_match_unatt.pkl'\n",
    "    with open(table_name, 'wb') as f:\n",
    "        pickle.dump(results, f)"
   ]
  },
  {
   "cell_type": "code",
   "execution_count": null,
   "metadata": {},
   "outputs": [],
   "source": [
    "Subj_ID = 3\n",
    "feat_match_list = objflow_att_list\n",
    "feat_distract_list = objflow_unatt_list\n",
    "MATCHATT = True\n",
    "pipe_mm_trials(Subj_ID, eeg_multisubj_list, feat_match_list, feat_distract_list, fs, L_EEG, L_Stim, offset_EEG, offset_Stim, trial_len_list, table_dirs['EEG'], MATCHATT, nb_trials=200, fold=5, n_components=5, nb_comp_into_account=2)"
   ]
  },
  {
   "cell_type": "code",
   "execution_count": null,
   "metadata": {},
   "outputs": [],
   "source": [
    "Subj_ID = 3\n",
    "feat_match_list = objflow_unatt_list\n",
    "feat_distract_list = objflow_att_list\n",
    "MATCHATT = False\n",
    "pipe_mm_trials(Subj_ID, eeg_multisubj_list, feat_match_list, feat_distract_list, fs, L_EEG, L_Stim, offset_EEG, offset_Stim, trial_len_list, table_dirs['EEG'], MATCHATT, nb_trials=200, fold=5, n_components=5, nb_comp_into_account=2)"
   ]
  },
  {
   "cell_type": "code",
   "execution_count": null,
   "metadata": {},
   "outputs": [],
   "source": []
  },
  {
   "cell_type": "markdown",
   "metadata": {},
   "source": [
    "## Using EOG signals or eye tracking data"
   ]
  },
  {
   "cell_type": "code",
   "execution_count": null,
   "metadata": {},
   "outputs": [],
   "source": [
    "Subj_ID = 3\n",
    "acc, p_value, acc_sig, corr_att_cv, corr_unatt_cv= pipe_att_or_unatt(Subj_ID, eog_multisubj_list, feat_att_list, feat_unatt_list, fs, L_EEG, L_Stim, offset_EEG, offset_Stim, TRAIN_WITH_ATT=True, figure_dir=figure_dirs['EOG'], trial_len=None, PLOT=False)\n",
    "acc, p_value, acc_sig, corr_att_cv, corr_unatt_cv = pipe_att_or_unatt(Subj_ID, eog_multisubj_list, feat_att_list, feat_unatt_list, fs, L_EEG, L_Stim, offset_EEG, offset_Stim, TRAIN_WITH_ATT=False, figure_dir=figure_dirs['EOG'], trial_len=None, PLOT=False)"
   ]
  },
  {
   "cell_type": "code",
   "execution_count": null,
   "metadata": {},
   "outputs": [],
   "source": [
    "pipe_compete_trials(Subj_ID, eog_multisubj_list, feat_att_list, feat_unatt_list, fs, L_EEG, L_Stim, offset_EEG, offset_Stim, trial_len_list, table_dirs['EOG'], TRAIN_WITH_ATT=True, nb_trials=200)"
   ]
  },
  {
   "cell_type": "code",
   "execution_count": null,
   "metadata": {},
   "outputs": [],
   "source": [
    "Subj_ID = 3\n",
    "acc, p_value, acc_sig, corr_att_cv, corr_unatt_cv= pipe_att_or_unatt(Subj_ID, gaze_multisubj_list, feat_att_list, feat_unatt_list, fs, L_EEG, L_Stim, offset_EEG, offset_Stim, TRAIN_WITH_ATT=True, figure_dir=figure_dirs['ET'], trial_len=None, PLOT=False)\n",
    "acc, p_value, acc_sig, corr_att_cv, corr_unatt_cv = pipe_att_or_unatt(Subj_ID, gaze_multisubj_list, feat_att_list, feat_unatt_list, fs, L_EEG, L_Stim, offset_EEG, offset_Stim, TRAIN_WITH_ATT=False, figure_dir=figure_dirs['ET'], trial_len=None, PLOT=False)"
   ]
  },
  {
   "cell_type": "code",
   "execution_count": null,
   "metadata": {},
   "outputs": [],
   "source": [
    "pipe_compete_trials(Subj_ID, gaze_multisubj_list, feat_att_list, feat_unatt_list, fs, L_EEG, L_Stim, offset_EEG, offset_Stim, trial_len_list, table_dirs['ET'], TRAIN_WITH_ATT=True, nb_trials=200)"
   ]
  },
  {
   "cell_type": "code",
   "execution_count": null,
   "metadata": {},
   "outputs": [],
   "source": []
  }
 ],
 "metadata": {
  "kernelspec": {
   "display_name": "signal",
   "language": "python",
   "name": "python3"
  },
  "language_info": {
   "codemirror_mode": {
    "name": "ipython",
    "version": 3
   },
   "file_extension": ".py",
   "mimetype": "text/x-python",
   "name": "python",
   "nbconvert_exporter": "python",
   "pygments_lexer": "ipython3",
   "version": "3.10.6"
  }
 },
 "nbformat": 4,
 "nbformat_minor": 2
}
