{
 "cells": [
  {
   "cell_type": "code",
   "execution_count": 5,
   "metadata": {},
   "outputs": [],
   "source": [
    "import mne\n",
    "import scipy\n",
    "import numpy as np\n",
    "import matplotlib.pyplot as plt\n",
    "import pandas as pd\n",
    "import seaborn as sns\n",
    "import utils\n",
    "import algo\n",
    "import os\n",
    "import random\n",
    "import glob\n",
    "import copy\n",
    "import itertools\n",
    "import pickle\n",
    "from findpeaks import findpeaks\n",
    "from tqdm import tqdm\n",
    "from numpy import linalg as LA\n",
    "from scipy.stats import zscore, pearsonr\n",
    "from scipy.io import savemat, loadmat\n",
    "from scipy import signal\n",
    "%matplotlib widget"
   ]
  },
  {
   "attachments": {},
   "cell_type": "markdown",
   "metadata": {},
   "source": [
    "## Data Loading"
   ]
  },
  {
   "cell_type": "code",
   "execution_count": 6,
   "metadata": {},
   "outputs": [],
   "source": [
    "def multisub_data_org(subjects, video_id, fsStim, bads, band=None, eog=False, regression=False, normalize=True, smooth=True):\n",
    "    feats_path_folder = '../Feature extraction/features/'\n",
    "    objf = np.load(feats_path_folder + video_id + '_mask.npy')\n",
    "    flow = np.load(feats_path_folder + video_id + '_flow.npy')\n",
    "    flow_mag = np.expand_dims(flow[:,8], axis=1)\n",
    "    tempctra = np.load(feats_path_folder + video_id + '_tempctra.npy')\n",
    "    tc_mask = np.load(feats_path_folder + video_id + '_tcmask.npy')\n",
    "    feats = np.concatenate((objf, tc_mask, flow_mag, tempctra), axis=1)\n",
    "    feats = utils.clean_features(feats, smooth=smooth)\n",
    "    T = feats.shape[0]\n",
    "    eeg_list = []\n",
    "    hf_list = []\n",
    "    eog_list = []\n",
    "    N = len(subjects)\n",
    "    for n in range(N):\n",
    "        eeg_path = '../../Experiments/data/'+ subjects[n] +'/' + video_id + '_eeg.set'\n",
    "        eeg_prepro, fs, high_freq = utils.preprocessing(eeg_path, HP_cutoff = 0.5, AC_freqs=50, band=band, resamp_freqs=fsStim, bads=bads[n], eog=eog, regression=regression, normalize=normalize)\n",
    "        eeg_channel_indices = mne.pick_types(eeg_prepro.info, eeg=True)\n",
    "        eog_channel_indices = mne.pick_types(eeg_prepro.info, eog=True)\n",
    "        eeg_downsampled, _ = eeg_prepro[eeg_channel_indices]\n",
    "        eog_downsampled, _ = eeg_prepro[eog_channel_indices]\n",
    "        eeg_downsampled = eeg_downsampled.T\n",
    "        eog_downsampled = eog_downsampled.T\n",
    "        eeg_list.append(eeg_downsampled)\n",
    "        eog_list.append(eog_downsampled)\n",
    "        if eeg_downsampled.shape[0] < T:\n",
    "            T = eeg_downsampled.shape[0]\n",
    "        hf_indices = mne.pick_types(high_freq.info, eeg=True)\n",
    "        hf_downsampled, _ = high_freq[hf_indices]\n",
    "        hf_downsampled = hf_downsampled.T\n",
    "        hf_list.append(hf_downsampled)\n",
    "        if hf_downsampled.shape[0] < T:\n",
    "            T = hf_downsampled.shape[0] \n",
    "    # Clip data\n",
    "    feats = feats[fsStim:T-fsStim, :]\n",
    "    eeg_list = [np.expand_dims(eeg[fsStim:T-fsStim,:], axis=2) for eeg in eeg_list]\n",
    "    eog_list = [np.expand_dims(eog[fsStim:T-fsStim,:], axis=2) for eog in eog_list]\n",
    "    hf_list = [np.expand_dims(eeg[fsStim:T-fsStim,:], axis=2) for eeg in hf_list]\n",
    "    eeg_multisub = np.concatenate(tuple(eeg_list), axis=2)\n",
    "    eog_multisub = np.concatenate(tuple(eog_list), axis=2)\n",
    "    hf_multisub = np.concatenate(tuple(hf_list), axis=2)\n",
    "    times = np.array(range(T))/fs\n",
    "    return feats, eeg_multisub, eog_multisub, hf_multisub, fs, times"
   ]
  },
  {
   "cell_type": "code",
   "execution_count": 7,
   "metadata": {},
   "outputs": [],
   "source": [
    "# %%capture\n",
    "# subjects = ['AS', 'YY', 'CM', 'SUB1', 'IR', 'SUB2', 'YZ', 'WD', 'CC', 'CW', 'WS', 'VC','HV','JC','DV','CD','JV','KY','KB','SC']\n",
    "# bads = [[], ['B25'], ['A24'], ['B25'], ['B25'], ['B25'], ['A11','B7','B25'], ['B25','B31'], ['B25'], [], ['A1','A30','B25'], ['B25','B31'], ['B25','B31','A20','A21','A26','A31'], ['B25','B31','B32','A28','A29','A30'],['A25','A30','B25','B29'],['A30','B25','B31'],['A30','B25'],[],['B25'],['B25']]\n",
    "# eeg_path_folder = \"../../Experiments/data/CD/\"\n",
    "# video_ids = [dataset[0:2] for dataset in os.listdir(eeg_path_folder) if dataset.endswith('.set')]\n",
    "# video_ids.remove('Mr')\n",
    "# features_list = []\n",
    "# eeg_multisub_list = []\n",
    "# eog_multisub_list = []\n",
    "# hf_multisub_list = []\n",
    "# for video_id in video_ids:\n",
    "#     features, eeg_multisub, eog_multisub, hf_multisub, fs, _ = multisub_data_org(subjects, video_id, fsStim=30, bads=bads, band=[15,25], eog=True, regression=True, normalize=True, smooth=True)\n",
    "#     features_list.append(features) \n",
    "#     eeg_multisub_list.append(np.float32(eeg_multisub))\n",
    "#     eog_multisub_list.append(np.float32(eog_multisub))\n",
    "#     hf_multisub_list.append(np.float32(hf_multisub))\n",
    "# if not os.path.exists('data/OneShot'):\n",
    "#     os.makedirs('data/OneShot')\n",
    "# with open('data/OneShot/features.pkl', 'wb') as f:\n",
    "#     pickle.dump(features_list, f)\n",
    "# with open('data/OneShot/eeg_multisub.pkl', 'wb') as f:\n",
    "#     pickle.dump(eeg_multisub_list, f)\n",
    "# with open('data/OneShot/eog_multisub.pkl', 'wb') as f:\n",
    "#     pickle.dump(eog_multisub_list, f)\n",
    "# with open('data/OneShot/hf_multisub.pkl', 'wb') as f:\n",
    "#     pickle.dump(hf_multisub_list, f)"
   ]
  },
  {
   "cell_type": "code",
   "execution_count": 8,
   "metadata": {},
   "outputs": [],
   "source": [
    "subjects = ['AS', 'YY', 'CM', 'SUB1', 'IR', 'SUB2', 'YZ', 'WD', 'CC', 'CW', 'WS', 'VC','HV','JC','DV','CD','JV','KY','KB','SC']\n",
    "fs = 30\n",
    "with open('../Single_Object/data/OneShot/features.pkl', 'rb') as f:\n",
    "    features_list = pickle.load(f)\n",
    "with open('../Single_Object/data/OneShot/eeg_multisub.pkl', 'rb') as f:\n",
    "    eeg_multisub_list = pickle.load(f)\n",
    "with open('../Single_Object/data/OneShot/eog_multisub.pkl', 'rb') as f:\n",
    "    eog_multisub_list = pickle.load(f)\n",
    "with open('../Single_Object/data/OneShot/hf_multisub.pkl', 'rb') as f:\n",
    "    hf_multisub_list = pickle.load(f)"
   ]
  },
  {
   "cell_type": "code",
   "execution_count": 9,
   "metadata": {},
   "outputs": [
    {
     "data": {
      "text/plain": [
       "63.19277777777778"
      ]
     },
     "execution_count": 9,
     "metadata": {},
     "output_type": "execute_result"
    }
   ],
   "source": [
    "T = sum([F.shape[0] for F in features_list])\n",
    "times = np.array(range(T))/fs\n",
    "n_sub = len(subjects)\n",
    "T/fs/60"
   ]
  },
  {
   "cell_type": "code",
   "execution_count": 10,
   "metadata": {},
   "outputs": [],
   "source": [
    "bio32 = mne.channels.make_standard_montage('biosemi32')\n",
    "bio64 = mne.channels.make_standard_montage('biosemi64')\n",
    "downsample_ind = [ch in bio32.ch_names for ch in bio64.ch_names]\n",
    "# complem_ind = [ch not in bio32.ch_names for ch in bio64.ch_names]"
   ]
  },
  {
   "cell_type": "code",
   "execution_count": 11,
   "metadata": {},
   "outputs": [],
   "source": [
    "eeg_32_list = [eeg64[:,downsample_ind,:] for eeg64 in eeg_multisub_list]\n",
    "hf_32_list = [hf64[:,downsample_ind,:] for hf64 in hf_multisub_list]\n",
    "mix_64_list = [np.concatenate((eeg32, hf32), axis=1) for eeg32, hf32 in zip(eeg_32_list, hf_32_list)]"
   ]
  },
  {
   "cell_type": "code",
   "execution_count": 12,
   "metadata": {},
   "outputs": [],
   "source": [
    "avgflow_list = [feats[:,20] for feats in features_list]\n",
    "avgtempctr_list = [feats[:,21] for feats in features_list]\n",
    "objflow_list = [feats[:,8] for feats in features_list]\n",
    "objtempctr_list = [feats[:,17] for feats in features_list]"
   ]
  },
  {
   "cell_type": "code",
   "execution_count": null,
   "metadata": {},
   "outputs": [],
   "source": []
  },
  {
   "attachments": {},
   "cell_type": "markdown",
   "metadata": {},
   "source": [
    "## CCA"
   ]
  },
  {
   "cell_type": "code",
   "execution_count": null,
   "metadata": {},
   "outputs": [],
   "source": [
    "def pip_CCA(eeg_multisub_list, feature_list, fs, n_sub, fig_name, tab_name, L_EEG=3, L_Stim=int(fs/2), offset_EEG=1, offset_Stim=0, signifi_level=True, n_components=5, ifEEG=True):\n",
    "    cc = np.zeros((n_sub, n_components+3))\n",
    "    for id_sub in range(n_sub):\n",
    "        print('subject: ', id_sub+1)\n",
    "        eeg_onesub_list = [eeg[:,:,id_sub] for eeg in eeg_multisub_list]\n",
    "        CCA = algo.CanonicalCorrelationAnalysis(eeg_onesub_list, feature_list, fs, L_EEG, L_Stim, offset_EEG, offset_Stim, signifi_level=signifi_level, n_components=n_components)\n",
    "        _, corr_test, sig_corr, _, tsc_test, _, _, V_A_train, V_B_train = CCA.cross_val()\n",
    "        cc[id_sub,0] = int(id_sub+1)\n",
    "        cc[id_sub,1:n_components+1] = np.average(corr_test, axis=0)\n",
    "        cc[id_sub,-2] = np.average(tsc_test)\n",
    "        cc[id_sub,-1] = sig_corr\n",
    "        eeg_onesub = np.concatenate(tuple(eeg_onesub_list), axis=0)\n",
    "        forward_model = CCA.forward_model(eeg_onesub, V_A_train)\n",
    "        if ifEEG:\n",
    "            if not os.path.exists('figures/CCA/OneShot'):\n",
    "                os.makedirs('figures/CCA/OneShot')\n",
    "            utils.plot_spatial_resp(forward_model, corr_test, 'figures/CCA/OneShot/'+fig_name+str(id_sub+1)+'.png')\n",
    "    columns = ['ID'] + ['CC'+str(i+1) for i in range(n_components)] + ['TSC(top2)','Sig_corr']\n",
    "    df_cca = pd.DataFrame(cc, columns = columns)\n",
    "    if not os.path.exists('tables/CCA/OneShot'):\n",
    "        os.makedirs('tables/CCA/OneShot')\n",
    "    df_cca.to_csv('tables/CCA/OneShot/'+tab_name+'.csv', index=False)"
   ]
  },
  {
   "cell_type": "code",
   "execution_count": null,
   "metadata": {},
   "outputs": [],
   "source": [
    "pip_CCA(eeg_multisub_list, avgflow_list, fs, n_sub, 'SR_avgflow_', 'avgflow_eeg')"
   ]
  },
  {
   "cell_type": "code",
   "execution_count": null,
   "metadata": {},
   "outputs": [],
   "source": [
    "pip_CCA(eeg_multisub_list, avgtempctr_list, fs, n_sub, 'SR_avgtempctr_', 'avgtempctr_eeg')"
   ]
  },
  {
   "cell_type": "code",
   "execution_count": null,
   "metadata": {},
   "outputs": [],
   "source": [
    "pip_CCA(eeg_multisub_list, objflow_list, fs, n_sub, 'SR_objflow_', 'objflow_eeg')"
   ]
  },
  {
   "cell_type": "code",
   "execution_count": null,
   "metadata": {},
   "outputs": [],
   "source": [
    "pip_CCA(eeg_multisub_list, objtempctr_list, fs, n_sub, 'SR_objtempctr_', 'objtempctr_eeg')"
   ]
  },
  {
   "cell_type": "code",
   "execution_count": null,
   "metadata": {},
   "outputs": [],
   "source": [
    "# Note: there are 4 EOG channels, so the number of components should be less than 4. Or include time lags in EOG and set n_components higher.\n",
    "pip_CCA(eog_multisub_list, objflow_list, fs, n_sub, 'DoesNotMatter', 'objflow_eog', ifEEG=False)"
   ]
  },
  {
   "cell_type": "code",
   "execution_count": null,
   "metadata": {},
   "outputs": [],
   "source": [
    "pip_CCA(eog_multisub_list, objtempctr_list, fs, n_sub, 'DoesNotMatter', 'objtempctr_eog', ifEEG=False)"
   ]
  },
  {
   "cell_type": "code",
   "execution_count": null,
   "metadata": {},
   "outputs": [],
   "source": [
    "# To include high frequency information. Turns out that it does not help.\n",
    "# pip_CCA(mix_64_list, avgflow_list, fs, n_sub, 'DoesNotMatter', 'avgflow_mixeeg', ifEEG=False)"
   ]
  },
  {
   "attachments": {},
   "cell_type": "markdown",
   "metadata": {},
   "source": [
    "### Match-Mismatch Setting"
   ]
  },
  {
   "cell_type": "code",
   "execution_count": null,
   "metadata": {},
   "outputs": [],
   "source": [
    "def pip_mm(eeg_multisub_list, feature_list, fs, n_sub, len_trial, tab_name, component, L_EEG=3, L_Stim=int(fs/2), offset_EEG=1, offset_Stim=0, signifi_level=False, n_components=5):\n",
    "    err = np.zeros((n_sub, 3))\n",
    "    for id_sub in range(n_sub):\n",
    "        eeg_onesub_list = [eeg[:,:,id_sub] for eeg in eeg_multisub_list]\n",
    "        CCA = algo.CanonicalCorrelationAnalysis(eeg_onesub_list, feature_list, fs, L_EEG, L_Stim, offset_EEG, offset_Stim, signifi_level=signifi_level, n_components=n_components)\n",
    "        corr_tensor_list, tsc_mtx_list = CCA.match_mismatch(len_trial)\n",
    "        if component is not None:\n",
    "            match_stim_err, match_eeg_err = utils.eval_mm(corr_tensor_list, component)\n",
    "        else:\n",
    "            match_stim_err, match_eeg_err = utils.eval_mm(tsc_mtx_list, component=None)\n",
    "        err[id_sub,0] = int(id_sub+1)\n",
    "        err[id_sub,1] = match_stim_err\n",
    "        err[id_sub,2] = match_eeg_err\n",
    "    columns = ['ID', 'Match_Stim_err', 'Match_EEG_err']\n",
    "    df_cca = pd.DataFrame(err, columns = columns)\n",
    "    if not os.path.exists('tables/CCA/MM/OneShot'):\n",
    "        os.makedirs('tables/CCA/MM/OneShot')\n",
    "    df_cca.to_csv('tables/CCA/MM/OneShot/'+tab_name+'.csv', index=False)"
   ]
  },
  {
   "cell_type": "code",
   "execution_count": null,
   "metadata": {},
   "outputs": [],
   "source": [
    "pip_mm(eeg_multisub_list, avgflow_list, fs, n_sub, 60, 'avgflow_1m_corr_1', 1)\n",
    "pip_mm(eeg_multisub_list, objflow_list, fs, n_sub, 60, 'objflow_1m_corr_1', 1)\n",
    "pip_mm(eeg_multisub_list, avgtempctr_list, fs, n_sub, 60, 'avgtempctr_1m_corr_1', 1)\n",
    "pip_mm(eeg_multisub_list, objtempctr_list, fs, n_sub, 60, 'objtempctr_1m_corr_1', 1)\n",
    "pip_mm(eeg_multisub_list, avgflow_list, fs, n_sub, 60, 'avgflow_1m_tsc', None)\n",
    "pip_mm(eeg_multisub_list, objflow_list, fs, n_sub, 60, 'objflow_1m_tsc', None)\n",
    "pip_mm(eeg_multisub_list, avgtempctr_list, fs, n_sub, 60, 'avgtempctr_1m_tsc', None)\n",
    "pip_mm(eeg_multisub_list, objtempctr_list, fs, n_sub, 60, 'objtempctr_1m_tsc', None)"
   ]
  },
  {
   "attachments": {},
   "cell_type": "markdown",
   "metadata": {},
   "source": [
    "## GCCA"
   ]
  },
  {
   "cell_type": "code",
   "execution_count": null,
   "metadata": {},
   "outputs": [],
   "source": [
    "def pip_GCCA(eeg_multisub_list, feature_list, fs, L, offset, name_app, regress_out=False, shifted_ver=True, fold=10, n_components=10, n_MC=100, min_shift_s=10):\n",
    "    n_sub = eeg_multisub_list[0].shape[2]\n",
    "    eeg_hankel_list = [utils.hankelize_eeg_multisub(eeg, L=L, offset=offset) for eeg in eeg_multisub_list]\n",
    "    if regress_out:\n",
    "        feature_hankel_list = [utils.block_Hankel(feat, L=int(fs/2)) for feat in feature_list]\n",
    "        eeg_multisub_reg_list = [utils.regress_out(eeg, feat) for eeg, feat in zip(eeg_hankel_list, feature_hankel_list)]\n",
    "    else:\n",
    "        eeg_multisub_reg_list = eeg_hankel_list\n",
    "    GCCA = algo.GeneralizedCCA(eeg_multisub_reg_list, fs=fs, L=1, fold=fold, offset=0, n_components=n_components, signifi_level=True, trials=False, save_W_perfold=True)\n",
    "    _, corr_test_reg, _, cov_test_reg, _, tsc_test_reg, _, _, _, F_train_reg = GCCA.cross_val()\n",
    "    W_train_list = GCCA.W_train_list\n",
    "    test_list = GCCA.test_list\n",
    "    F_train_reg = utils.F_organize(F_train_reg, L=5, offset=2, avg=False)\n",
    "    print('tsc_test: ', np.mean(tsc_test_reg, axis=0))\n",
    "    print('Average ISCov of the top 10 components on the test sets: ', np.mean(cov_test_reg, axis=0))\n",
    "    utils.plot_spatial_resp(F_train_reg, corr_test_reg, 'figures/GCCA/OneShot/'+str(n_sub)+'_'+name_app+'.pdf', ifISC=True)\n",
    "    if shifted_ver:\n",
    "        ISCOV_rand = np.zeros((n_MC*fold, n_components))\n",
    "        for i in range(fold):\n",
    "            W_train = W_train_list[i]\n",
    "            test = test_list[i]\n",
    "            for count in tqdm(range(n_MC)):\n",
    "                test_shift, offset_list = utils.random_shift_3D(test, min_shift_s*fs)\n",
    "                _, ISCOV_rand[i*n_MC+count,:], _, _ = GCCA.avg_stats(test_shift, W_train)\n",
    "        print('Mean of the estimate error due to finite sample size: ', np.mean(ISCOV_rand))\n",
    "        print('Standard deviation of the estimate error due to finite sample size: ', np.std(ISCOV_rand))\n",
    "    return corr_test_reg, cov_test_reg, ISCOV_rand, W_train_list, test_list"
   ]
  },
  {
   "cell_type": "code",
   "execution_count": null,
   "metadata": {},
   "outputs": [],
   "source": [
    "GCCA = algo.GeneralizedCCA(eeg_multisub_list, fs, L=5, offset=2, n_components=10, signifi_level=True, trials=False)\n",
    "corr_train, corr_test, cov_train, cov_test, tsc_train, tsc_test, dist_train, dist_test, W_train, F_train_GCCA = GCCA.cross_val()\n",
    "print('tsc_test: ', np.mean(tsc_test, axis=0))\n",
    "print('Average ISCov of the top 10 components on the test sets: ', np.mean(cov_test, axis=0))\n",
    "if not os.path.exists('figures/GCCA/OneShot'):\n",
    "    os.makedirs('figures/GCCA/OneShot')\n",
    "utils.plot_spatial_resp(F_train_GCCA, corr_test, 'figures/GCCA/OneShot/'+str(n_sub)+'_cb.pdf', ifISC=True)"
   ]
  },
  {
   "cell_type": "code",
   "execution_count": null,
   "metadata": {},
   "outputs": [],
   "source": [
    "# Just for fair comparison: Hankelize first and then apply GCCA\n",
    "# The results are slightly different from the results obtained above\n",
    "eeg_hankel_list = [utils.hankelize_eeg_multisub(eeg, L=5, offset=2) for eeg in eeg_multisub_list]\n",
    "GCCA = algo.GeneralizedCCA(eeg_hankel_list, fs=30, L=1, offset=0, n_components=10, signifi_level=True, trials=False)\n",
    "_, corr_test, _, cov_test, _, _, _, _, _, F_train = GCCA.cross_val()\n",
    "print('tsc_test: ', np.mean(tsc_test, axis=0))\n",
    "print('Average ISCov of the top 10 components on the test sets: ', np.mean(cov_test, axis=0))"
   ]
  },
  {
   "cell_type": "code",
   "execution_count": null,
   "metadata": {},
   "outputs": [],
   "source": [
    "# Just for fair comparison: Hankelize first and then apply GCCA\n",
    "ISC_of, ISCOV_of, err_of, W_train_of, test_of = pip_GCCA(eeg_multisub_list, objflow_list, fs, L=5, offset=2, name_app='OG_cb', regress_out=False)"
   ]
  },
  {
   "cell_type": "code",
   "execution_count": null,
   "metadata": {},
   "outputs": [],
   "source": [
    "# regress out ObjFlow\n",
    "ISC_of, ISCOV_of, err_of, W_train_of, test_of = pip_GCCA(eeg_multisub_list, objflow_list, fs, L=5, offset=2, name_app='regOF_cb', regress_out=True)"
   ]
  },
  {
   "cell_type": "code",
   "execution_count": null,
   "metadata": {},
   "outputs": [],
   "source": [
    "# regress out ObjTempCtr\n",
    "ISC_otc, ISCOV_otc, err_otc, W_train_otc, test_otc = pip_GCCA(eeg_multisub_list, objtempctr_list, fs, L=5, offset=2, name_app='regOTC_cb', regress_out=True)"
   ]
  },
  {
   "cell_type": "markdown",
   "metadata": {},
   "source": [
    "### Channel selection"
   ]
  },
  {
   "cell_type": "code",
   "execution_count": null,
   "metadata": {},
   "outputs": [],
   "source": [
    "def greedy_selection(eeg_multisub_list, fs, forward_model=None, kth_MC=1, L=5, offset=2, n_components=10, comp=1, signifi_level=False, trials=False, max_ch=None):\n",
    "    nb_channel = eeg_multisub_list[0].shape[1]\n",
    "    if max_ch is None:\n",
    "        max_ch = nb_channel\n",
    "    cc = np.zeros((max_ch, n_components+2))\n",
    "    columns = ['#channel'] + ['CC'+str(i+1) for i in range(n_components)] + ['TSC(top4)']\n",
    "    if not os.path.exists('tables/GCCA/ChannelSelection'):\n",
    "        os.makedirs('tables/GCCA/ChannelSelection')\n",
    "    if forward_model is not None:\n",
    "        fm_comp = forward_model[:,comp-1]\n",
    "        rank_idx = np.argsort(np.abs(fm_comp))[::-1]\n",
    "        file_name = 'GreedyComp_' + str(comp) + '.csv'\n",
    "    else:\n",
    "        rank_idx = np.random.permutation(nb_channel)\n",
    "        file_name = 'RandSele_' + str(kth_MC) + '.csv'\n",
    "    for i in range(1, max_ch+1):\n",
    "        print('Selected Channels: ', rank_idx[:i])\n",
    "        eeg_channel = [eeg[:,rank_idx[:i],:] for eeg in eeg_multisub_list]\n",
    "        GCCA = algo.GeneralizedCCA(eeg_channel, fs, L=L, offset=offset, n_components=n_components, signifi_level=signifi_level, trials=trials)\n",
    "        _, corr_test, _, _, _, tsc_test, _, _, _, _ = GCCA.cross_val()\n",
    "        cc[i-1,0] = i\n",
    "        cc[i-1,1:n_components+1] = np.average(corr_test, axis=0)\n",
    "        cc[i-1,-1] = np.average(tsc_test)\n",
    "        print('tsc_test: ', np.average(tsc_test))\n",
    "        df_cca = pd.DataFrame(cc, columns = columns)\n",
    "        df_cca.to_csv('tables/GCCA/ChannelSelection/'+file_name, index=False)\n",
    "    ISC_1st = cc[:,1]\n",
    "    return rank_idx, ISC_1st"
   ]
  },
  {
   "cell_type": "code",
   "execution_count": null,
   "metadata": {},
   "outputs": [],
   "source": [
    "rank_idx, _ = greedy_selection(eeg_multisub_list, fs, forward_model=F_train_GCCA)"
   ]
  },
  {
   "cell_type": "code",
   "execution_count": null,
   "metadata": {},
   "outputs": [],
   "source": [
    "# # Takes long time to run\n",
    "nb_MC = 30\n",
    "for kth_MC in range(nb_MC):\n",
    "    # randomly generate a channel order\n",
    "    _, _ = greedy_selection(eeg_multisub_list, fs, forward_model=None, kth_MC=kth_MC)"
   ]
  },
  {
   "cell_type": "code",
   "execution_count": null,
   "metadata": {},
   "outputs": [],
   "source": [
    "# load the saved csv file\n",
    "gs_cca = pd.read_csv('tables/GCCA/ChannelSelection/GreedyComp_1.csv')\n",
    "# load the csv files that contain 'Rand' in their names\n",
    "rand_csv_file = [name for name in os.listdir('tables/GCCA/ChannelSelection/') if 'Rand' in name]\n",
    "rand_cca_list = []\n",
    "for i in range(len(rand_csv_file)):\n",
    "    df = pd.read_csv('tables/GCCA/ChannelSelection/' + rand_csv_file[i])\n",
    "    if df['CC1'].iloc[-1] != 0:\n",
    "        rand_cca_list.append(df)\n",
    "# merge the 'CC1' columns of all the csv files into one dataframe\n",
    "rand_CC1 = pd.concat([rand_cca_list[i]['CC1'] for i in range(len(rand_cca_list))], axis=1)\n",
    "# get the 5-50-95 percentile of the CC1 values\n",
    "rand_CC1_percentile = rand_CC1.quantile([0.05, 0.5, 0.95], axis=1).T"
   ]
  },
  {
   "cell_type": "code",
   "execution_count": null,
   "metadata": {},
   "outputs": [],
   "source": [
    "plt.close()\n",
    "plt.figure(figsize=(6, 4))\n",
    "plt.plot(gs_cca['#channel'], gs_cca['CC1'], label='Greedy Selection')\n",
    "# plot the 5-50-95 percentile of the CC1 values\n",
    "plt.fill_between(gs_cca['#channel'], rand_CC1_percentile[0.05], rand_CC1_percentile[0.95], alpha=0.2)\n",
    "plt.plot(gs_cca['#channel'], rand_CC1_percentile[0.5], linestyle='--', color='k', label='Random Selection (median)')\n",
    "plt.xlabel('Number of channels')\n",
    "plt.ylabel('ISC (1st component)')\n",
    "plt.xlim([1, 64])\n",
    "plt.legend()\n",
    "plt.show()"
   ]
  },
  {
   "attachments": {},
   "cell_type": "markdown",
   "metadata": {},
   "source": [
    "## GCCA + LS\n",
    "This section is not included in the paper."
   ]
  },
  {
   "cell_type": "code",
   "execution_count": null,
   "metadata": {},
   "outputs": [],
   "source": [
    "LS_GCCA_Group = algo.LSGCCA_Group(eeg_multisub_list, objflow_list, fs, L_EEG=5, L_Stim=int(fs/2), offset_EEG=2, offset_Stim=0, id_sub=0, n_components=10)\n",
    "LS_GCCA_Group.to_latent_space()\n",
    "corr_train, corr_test, sig_corr, We_train, Ws_train, F_train = LS_GCCA_Group.cross_val()"
   ]
  },
  {
   "cell_type": "code",
   "execution_count": null,
   "metadata": {},
   "outputs": [],
   "source": [
    "plt.close()\n",
    "# n_comp = Ws_train.shape[1]\n",
    "for i in range(5):\n",
    "    w, h = signal.freqz(Ws_train[:,i])\n",
    "    freq = w / (2*np.pi) * fs\n",
    "    plt.plot(freq, 20*np.log10(abs(h)), label='Component {}'.format(i+1))\n",
    "plt.legend()\n",
    "plt.xlabel('Frequency [Hz]')\n",
    "plt.ylabel('Magnitude [dB]')\n",
    "plt.title('Frequency response of the filters for ObjFlow')\n",
    "plt.show()"
   ]
  },
  {
   "cell_type": "code",
   "execution_count": null,
   "metadata": {},
   "outputs": [],
   "source": [
    "LS_GCCA_Group = algo.LSGCCA_Group(eeg_multisub_list, avgflow_list, fs, L_EEG=5, L_Stim=int(fs/2), offset_EEG=2, offset_Stim=0, id_sub=0, n_components=10)\n",
    "LS_GCCA_Group.to_latent_space()\n",
    "corr_train, corr_test, sig_corr, We_train, Ws_train, F_train = LS_GCCA_Group.cross_val()"
   ]
  },
  {
   "attachments": {},
   "cell_type": "markdown",
   "metadata": {},
   "source": [
    "## Results Visualization"
   ]
  },
  {
   "cell_type": "code",
   "execution_count": null,
   "metadata": {},
   "outputs": [],
   "source": [
    "def df_split_two_comp(filename):\n",
    "    df = pd.read_csv(filename)\n",
    "    two_comp = df[['CC1', 'CC2']]\n",
    "    CC1_high = df[df['CC1']>df['Sig_corr']]['CC1']\n",
    "    CC1_low = df[df['CC1']<df['Sig_corr']]['CC1']\n",
    "    CC2_high = df[df['CC2']>df['Sig_corr']]['CC2']\n",
    "    CC2_low = df[df['CC2']<df['Sig_corr']]['CC2']\n",
    "    avg_sig_corr = df['Sig_corr'].mean()\n",
    "    high_two_comp = pd.concat([pd.DataFrame(CC1_high), pd.DataFrame(CC2_high)])\n",
    "    low_two_comp = pd.concat([pd.DataFrame(CC1_low), pd.DataFrame(CC2_low)])\n",
    "    return two_comp, high_two_comp, low_two_comp, avg_sig_corr\n",
    "\n",
    "def plot_data(ax, data, high, low, label, avg_sig_corr):\n",
    "    sns.pointplot(data=data, errorbar='sd', join=False, estimator='mean', ax=ax)\n",
    "    sns.swarmplot(data=high, palette=['0', '0'], alpha=.35, ax=ax)\n",
    "    if not low.isnull().values.all():\n",
    "        sns.swarmplot(data=low, palette=['red', 'red'], alpha=.75, ax=ax)\n",
    "    # draw line for significant correlation, set the transparency of the line to 0.5\n",
    "    ax.axhline(avg_sig_corr, ls='--', color='black', alpha=.5)\n",
    "    # set xticks\n",
    "    ax.set_xticks(['CC1', 'CC2'])\n",
    "    ax.set_title(label)\n",
    "\n",
    "def visual_two_comp(files, labels, fig_name):\n",
    "    plt.close()\n",
    "    nb_feats = len(files)\n",
    "    fig, axs = plt.subplots(1, nb_feats, sharey=True, figsize=(int(nb_feats*2), 4))\n",
    "    axs[0].set_ylabel('Correlation')\n",
    "    for i in range(nb_feats):\n",
    "        data, high, low, avg_sig_corr = df_split_two_comp(files[i])\n",
    "        plot_data(axs[i], data, high, low, labels[i], avg_sig_corr)\n",
    "    plt.savefig('../../Manuscript/1st/images/' + fig_name + '.png', dpi=600)\n",
    "    plt.show()\n"
   ]
  },
  {
   "cell_type": "code",
   "execution_count": null,
   "metadata": {},
   "outputs": [],
   "source": [
    "files = ['tables/CCA/MrBean/avgflow_eeg.csv', 'tables/CCA/MrBean/avgflow_clean_eeg.csv', \n",
    "         'tables/CCA/MrBean/avgtempctr_eeg.csv', 'tables/CCA/MrBean/avgtempctr_clean_eeg.csv', \n",
    "         'tables/CCA/MrBean/binary_eeg.csv']\n",
    "labels = ['AvgFlow', 'Clean AvgFlow', 'AvgTempCtr', 'Clean AvgTempCtr', 'Binary Shot Cut']\n",
    "visual_two_comp(files, labels, 'MrBean_two_comp')"
   ]
  },
  {
   "cell_type": "code",
   "execution_count": null,
   "metadata": {},
   "outputs": [],
   "source": [
    "files = ['tables/CCA/OneShot/avgflow_eeg.csv', 'tables/CCA/OneShot/objflow_eeg.csv', \n",
    "         'tables/CCA/OneShot/avgtempctr_eeg.csv', 'tables/CCA/OneShot/objtempctr_eeg.csv']\n",
    "labels = ['AvgFlow', 'ObjFlow', 'AvgTempCtr', 'ObjTempCtr']\n",
    "visual_two_comp(files, labels, 'OneShot_two_comp')"
   ]
  },
  {
   "cell_type": "code",
   "execution_count": null,
   "metadata": {},
   "outputs": [],
   "source": [
    "def read_and_select(filename, column):\n",
    "    df = pd.read_csv(filename)\n",
    "    return df.loc[:, column]\n",
    "\n",
    "def plot_df(files, labels, col, y_name, fig_name):\n",
    "    plt.close()\n",
    "    nb_cols = len(labels)\n",
    "    df_concat = pd.DataFrame({labels[i]: read_and_select(files[i], col) for i in range(nb_cols)})\n",
    "    sns.pointplot(data=df_concat, errorbar='sd', join=False, estimator='mean')\n",
    "    sns.swarmplot(data=df_concat, color=\"0\", alpha=.35)\n",
    "    plt.ylabel(y_name)\n",
    "    plt.savefig('../../Manuscript/1st/images/' + fig_name + '.png', dpi=600)\n",
    "    plt.show()"
   ]
  },
  {
   "cell_type": "code",
   "execution_count": null,
   "metadata": {},
   "outputs": [],
   "source": [
    "files = ['tables/CCA/OneShot/avgflow_eeg.csv', 'tables/CCA/OneShot/objflow_eeg.csv', \n",
    "         'tables/CCA/OneShot/avgtempctr_eeg.csv', 'tables/CCA/OneShot/objtempctr_eeg.csv']\n",
    "labels = ['AvgFlow-EEG', 'ObjFlow-EEG', 'AvgTempCtr-EEG', 'ObjTempCtr-EEG']\n",
    "col = 'TSC(top2)'\n",
    "plot_df(files, labels, col, 'TSC (top 2)', 'avg_obj_tsc')"
   ]
  },
  {
   "cell_type": "code",
   "execution_count": null,
   "metadata": {},
   "outputs": [],
   "source": [
    "files = ['tables/CCA/OneShot/objflow_eog.csv', 'tables/CCA/OneShot/objflow_eeg.csv', \n",
    "         'tables/CCA/OneShot/objtempctr_eog.csv', 'tables/CCA/OneShot/objtempctr_eeg.csv']\n",
    "labels = ['ObjFlow-EOG', 'ObjFlow-EEG', 'ObjTempCtr-EOG', 'ObjTempCtr-EEG']\n",
    "col = 'TSC(top2)'\n",
    "plot_df(files, labels, col, 'TSC (top 2)', 'eeg_eog_tsc')"
   ]
  },
  {
   "cell_type": "code",
   "execution_count": null,
   "metadata": {},
   "outputs": [],
   "source": [
    "files = ['tables/CCA/MM/OneShot/avgflow_1m_corr_1.csv', 'tables/CCA/MM/OneShot/objflow_1m_corr_1.csv', \n",
    "         'tables/CCA/MM/OneShot/avgtempctr_1m_corr_1.csv', 'tables/CCA/MM/OneShot/objtempctr_1m_corr_1.csv']\n",
    "labels = ['AvgFlow', 'ObjFlow', 'AvgTempCtr', 'ObjTempCtr']\n",
    "col = 'Match_EEG_err'\n",
    "plot_df(files, labels, col, 'Error Rate', 'Match_EEG_err')"
   ]
  },
  {
   "cell_type": "code",
   "execution_count": null,
   "metadata": {},
   "outputs": [],
   "source": [
    "files = ['tables/CCA/MM/OneShot/avgflow_1m_corr_1.csv', 'tables/CCA/MM/OneShot/objflow_1m_corr_1.csv', \n",
    "         'tables/CCA/MM/OneShot/avgtempctr_1m_corr_1.csv', 'tables/CCA/MM/OneShot/objtempctr_1m_corr_1.csv']\n",
    "labels = ['AvgFlow', 'ObjFlow', 'AvgTempCtr', 'ObjTempCtr']\n",
    "col = 'Match_Stim_err'\n",
    "plot_df(files, labels, col, 'Error Rate', 'Match_Stim_err')"
   ]
  },
  {
   "cell_type": "code",
   "execution_count": null,
   "metadata": {},
   "outputs": [],
   "source": []
  }
 ],
 "metadata": {
  "kernelspec": {
   "display_name": "signal",
   "language": "python",
   "name": "python3"
  },
  "language_info": {
   "codemirror_mode": {
    "name": "ipython",
    "version": 3
   },
   "file_extension": ".py",
   "mimetype": "text/x-python",
   "name": "python",
   "nbconvert_exporter": "python",
   "pygments_lexer": "ipython3",
   "version": "3.10.6"
  },
  "orig_nbformat": 4,
  "vscode": {
   "interpreter": {
    "hash": "e4780ce94013b4ad826834d504b051d615119766f3ac7f8bac99efc1ee879921"
   }
  }
 },
 "nbformat": 4,
 "nbformat_minor": 2
}
